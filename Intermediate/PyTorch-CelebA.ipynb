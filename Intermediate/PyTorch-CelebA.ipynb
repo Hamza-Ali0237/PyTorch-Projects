{
  "cells": [
    {
      "cell_type": "markdown",
      "metadata": {
        "id": "view-in-github",
        "colab_type": "text"
      },
      "source": [
        "<a href=\"https://colab.research.google.com/github/Hamza-Ali0237/PyTorch-Projects/blob/main/Intermediate/PyTorch-CelebA.ipynb\" target=\"_parent\"><img src=\"https://colab.research.google.com/assets/colab-badge.svg\" alt=\"Open In Colab\"/></a>"
      ]
    },
    {
      "cell_type": "markdown",
      "id": "d4f694dd",
      "metadata": {
        "id": "d4f694dd"
      },
      "source": [
        "# Multi-Label Image Classification"
      ]
    },
    {
      "cell_type": "markdown",
      "source": [
        "## Setup & Configuration"
      ],
      "metadata": {
        "id": "ca7PScJTpwOR"
      },
      "id": "ca7PScJTpwOR"
    },
    {
      "cell_type": "code",
      "execution_count": null,
      "id": "3eccd8d9",
      "metadata": {
        "vscode": {
          "languageId": "plaintext"
        },
        "id": "3eccd8d9"
      },
      "outputs": [],
      "source": [
        "!pip install torchmetrics"
      ]
    },
    {
      "cell_type": "code",
      "execution_count": null,
      "id": "8be6df1d",
      "metadata": {
        "vscode": {
          "languageId": "plaintext"
        },
        "id": "8be6df1d"
      },
      "outputs": [],
      "source": [
        "# Import Libraries\n",
        "import torch\n",
        "import torch.nn as nn\n",
        "import torchvision as tv\n",
        "import torchmetrics as tm\n",
        "from torchvision import transforms\n",
        "from torchvision.datasets import CelebA\n",
        "\n",
        "import math\n",
        "import random\n",
        "import numpy as np\n",
        "import seaborn as sns\n",
        "from collections import Counter\n",
        "import matplotlib.pyplot as plt"
      ]
    },
    {
      "cell_type": "code",
      "execution_count": null,
      "id": "662e44af",
      "metadata": {
        "vscode": {
          "languageId": "plaintext"
        },
        "id": "662e44af"
      },
      "outputs": [],
      "source": [
        "# Configuration Dictionary\n",
        "cfg = {\n",
        "    # Reproducibility\n",
        "    \"seed\": 42,\n",
        "\n",
        "    # Computing Device\n",
        "    \"device\": \"cuda\" if torch.cuda.is_available() else \"cpu\",\n",
        "\n",
        "    # Data Settings\n",
        "    \"root_dir\": \"./data\",\n",
        "    \"image_size\": 224,\n",
        "    \"batch_size\": 32,\n",
        "    \"num_workers\": 2,\n",
        "    \"pin_memory\": True,\n",
        "    \"num_classes\": 40,\n",
        "\n",
        "    # Training Hyperparameters\n",
        "    \"epochs\": 25,\n",
        "    \"lr\": 1e-3,\n",
        "    \"weight_decay\": 1e-4,\n",
        "    \"label_smoothing\": 0.0,\n",
        "}"
      ]
    },
    {
      "cell_type": "code",
      "execution_count": null,
      "id": "462fea46",
      "metadata": {
        "vscode": {
          "languageId": "plaintext"
        },
        "id": "462fea46"
      },
      "outputs": [],
      "source": []
    },
    {
      "cell_type": "code",
      "execution_count": null,
      "id": "6e340f11",
      "metadata": {
        "vscode": {
          "languageId": "plaintext"
        },
        "id": "6e340f11"
      },
      "outputs": [],
      "source": []
    },
    {
      "cell_type": "code",
      "execution_count": null,
      "id": "b6873d4a",
      "metadata": {
        "vscode": {
          "languageId": "plaintext"
        },
        "id": "b6873d4a"
      },
      "outputs": [],
      "source": []
    },
    {
      "cell_type": "code",
      "execution_count": null,
      "id": "29b82a5e",
      "metadata": {
        "vscode": {
          "languageId": "plaintext"
        },
        "id": "29b82a5e"
      },
      "outputs": [],
      "source": []
    },
    {
      "cell_type": "code",
      "execution_count": null,
      "id": "527b8b7b",
      "metadata": {
        "vscode": {
          "languageId": "plaintext"
        },
        "id": "527b8b7b"
      },
      "outputs": [],
      "source": []
    }
  ],
  "metadata": {
    "language_info": {
      "name": "python"
    },
    "colab": {
      "provenance": [],
      "include_colab_link": true
    }
  },
  "nbformat": 4,
  "nbformat_minor": 5
}