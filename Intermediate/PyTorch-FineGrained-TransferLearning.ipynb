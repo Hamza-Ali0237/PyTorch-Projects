{
  "cells": [
    {
      "cell_type": "markdown",
      "metadata": {
        "id": "view-in-github",
        "colab_type": "text"
      },
      "source": [
        "<a href=\"https://colab.research.google.com/github/Hamza-Ali0237/PyTorch-Projects/blob/main/Intermediate/PyTorch-FineGrained-TransferLearning.ipynb\" target=\"_parent\"><img src=\"https://colab.research.google.com/assets/colab-badge.svg\" alt=\"Open In Colab\"/></a>"
      ]
    },
    {
      "cell_type": "markdown",
      "source": [
        "# Fine-Grained Transfer Learning"
      ],
      "metadata": {
        "id": "QC-o2kV-qRX2"
      },
      "id": "QC-o2kV-qRX2"
    },
    {
      "cell_type": "code",
      "execution_count": null,
      "id": "90187b26",
      "metadata": {
        "vscode": {
          "languageId": "plaintext"
        },
        "id": "90187b26"
      },
      "outputs": [],
      "source": [
        "!pip install torchmetrics"
      ]
    },
    {
      "cell_type": "code",
      "execution_count": null,
      "id": "17d1d8ea",
      "metadata": {
        "vscode": {
          "languageId": "plaintext"
        },
        "id": "17d1d8ea"
      },
      "outputs": [],
      "source": [
        "import torch\n",
        "from torch import nn\n",
        "import torchvision as tv\n",
        "import torchmetrics as tm\n",
        "from torchvision import transforms\n",
        "from torchvision.datasets import Flowers102\n",
        "from torch.utils.data import Dataset, DataLoader\n",
        "\n",
        "from PIL import Image\n",
        "import numpy as np\n",
        "import matplotlib.pyplot as plt\n",
        "import seaborn as sns"
      ]
    },
    {
      "cell_type": "code",
      "execution_count": null,
      "id": "4b805b81",
      "metadata": {
        "vscode": {
          "languageId": "plaintext"
        },
        "id": "4b805b81"
      },
      "outputs": [],
      "source": [
        "# Configuration\n",
        "conf_dict = {\n",
        "    # Reproducibility\n",
        "    \"seed\": 42,\n",
        "\n",
        "    # Computing Device\n",
        "    \"device\": \"cuda\" if torch.cuda.is_available() else \"cpu\",\n",
        "\n",
        "    # Data Settings\n",
        "    \"root_dir\": \"./data\",\n",
        "    \"image_size\": 224,\n",
        "    \"batch_size\": 32,\n",
        "    \"num_workers\": 2,\n",
        "    \"pin_memory\": True,\n",
        "}"
      ]
    },
    {
      "cell_type": "code",
      "execution_count": null,
      "id": "22699315",
      "metadata": {
        "vscode": {
          "languageId": "plaintext"
        },
        "id": "22699315"
      },
      "outputs": [],
      "source": []
    },
    {
      "cell_type": "code",
      "execution_count": null,
      "id": "93affe98",
      "metadata": {
        "vscode": {
          "languageId": "plaintext"
        },
        "id": "93affe98"
      },
      "outputs": [],
      "source": []
    },
    {
      "cell_type": "code",
      "execution_count": null,
      "id": "d733585c",
      "metadata": {
        "vscode": {
          "languageId": "plaintext"
        },
        "id": "d733585c"
      },
      "outputs": [],
      "source": []
    }
  ],
  "metadata": {
    "language_info": {
      "name": "python"
    },
    "colab": {
      "provenance": [],
      "include_colab_link": true
    }
  },
  "nbformat": 4,
  "nbformat_minor": 5
}