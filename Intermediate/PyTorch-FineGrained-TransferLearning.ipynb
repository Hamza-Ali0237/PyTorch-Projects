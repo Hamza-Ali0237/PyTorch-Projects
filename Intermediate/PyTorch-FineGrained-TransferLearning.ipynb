{
  "cells": [
    {
      "cell_type": "markdown",
      "metadata": {
        "id": "view-in-github",
        "colab_type": "text"
      },
      "source": [
        "<a href=\"https://colab.research.google.com/github/Hamza-Ali0237/PyTorch-Projects/blob/main/Intermediate/PyTorch-FineGrained-TransferLearning.ipynb\" target=\"_parent\"><img src=\"https://colab.research.google.com/assets/colab-badge.svg\" alt=\"Open In Colab\"/></a>"
      ]
    },
    {
      "cell_type": "markdown",
      "source": [
        "# Fine-Grained Transfer Learning"
      ],
      "metadata": {
        "id": "QC-o2kV-qRX2"
      },
      "id": "QC-o2kV-qRX2"
    },
    {
      "cell_type": "code",
      "execution_count": null,
      "id": "90187b26",
      "metadata": {
        "vscode": {
          "languageId": "plaintext"
        },
        "id": "90187b26",
        "colab": {
          "base_uri": "https://localhost:8080/"
        },
        "outputId": "ec4422af-93b5-4c7a-c026-6d069cf9a9a8"
      },
      "outputs": [
        {
          "output_type": "stream",
          "name": "stdout",
          "text": [
            "Collecting torchmetrics\n",
            "  Downloading torchmetrics-1.8.1-py3-none-any.whl.metadata (22 kB)\n",
            "Requirement already satisfied: numpy>1.20.0 in /usr/local/lib/python3.12/dist-packages (from torchmetrics) (2.0.2)\n",
            "Requirement already satisfied: packaging>17.1 in /usr/local/lib/python3.12/dist-packages (from torchmetrics) (25.0)\n",
            "Requirement already satisfied: torch>=2.0.0 in /usr/local/lib/python3.12/dist-packages (from torchmetrics) (2.8.0+cu126)\n",
            "Collecting lightning-utilities>=0.8.0 (from torchmetrics)\n",
            "  Downloading lightning_utilities-0.15.2-py3-none-any.whl.metadata (5.7 kB)\n",
            "Requirement already satisfied: setuptools in /usr/local/lib/python3.12/dist-packages (from lightning-utilities>=0.8.0->torchmetrics) (75.2.0)\n",
            "Requirement already satisfied: typing_extensions in /usr/local/lib/python3.12/dist-packages (from lightning-utilities>=0.8.0->torchmetrics) (4.15.0)\n",
            "Requirement already satisfied: filelock in /usr/local/lib/python3.12/dist-packages (from torch>=2.0.0->torchmetrics) (3.19.1)\n",
            "Requirement already satisfied: sympy>=1.13.3 in /usr/local/lib/python3.12/dist-packages (from torch>=2.0.0->torchmetrics) (1.13.3)\n",
            "Requirement already satisfied: networkx in /usr/local/lib/python3.12/dist-packages (from torch>=2.0.0->torchmetrics) (3.5)\n",
            "Requirement already satisfied: jinja2 in /usr/local/lib/python3.12/dist-packages (from torch>=2.0.0->torchmetrics) (3.1.6)\n",
            "Requirement already satisfied: fsspec in /usr/local/lib/python3.12/dist-packages (from torch>=2.0.0->torchmetrics) (2025.3.0)\n",
            "Requirement already satisfied: nvidia-cuda-nvrtc-cu12==12.6.77 in /usr/local/lib/python3.12/dist-packages (from torch>=2.0.0->torchmetrics) (12.6.77)\n",
            "Requirement already satisfied: nvidia-cuda-runtime-cu12==12.6.77 in /usr/local/lib/python3.12/dist-packages (from torch>=2.0.0->torchmetrics) (12.6.77)\n",
            "Requirement already satisfied: nvidia-cuda-cupti-cu12==12.6.80 in /usr/local/lib/python3.12/dist-packages (from torch>=2.0.0->torchmetrics) (12.6.80)\n",
            "Requirement already satisfied: nvidia-cudnn-cu12==9.10.2.21 in /usr/local/lib/python3.12/dist-packages (from torch>=2.0.0->torchmetrics) (9.10.2.21)\n",
            "Requirement already satisfied: nvidia-cublas-cu12==12.6.4.1 in /usr/local/lib/python3.12/dist-packages (from torch>=2.0.0->torchmetrics) (12.6.4.1)\n",
            "Requirement already satisfied: nvidia-cufft-cu12==11.3.0.4 in /usr/local/lib/python3.12/dist-packages (from torch>=2.0.0->torchmetrics) (11.3.0.4)\n",
            "Requirement already satisfied: nvidia-curand-cu12==10.3.7.77 in /usr/local/lib/python3.12/dist-packages (from torch>=2.0.0->torchmetrics) (10.3.7.77)\n",
            "Requirement already satisfied: nvidia-cusolver-cu12==11.7.1.2 in /usr/local/lib/python3.12/dist-packages (from torch>=2.0.0->torchmetrics) (11.7.1.2)\n",
            "Requirement already satisfied: nvidia-cusparse-cu12==12.5.4.2 in /usr/local/lib/python3.12/dist-packages (from torch>=2.0.0->torchmetrics) (12.5.4.2)\n",
            "Requirement already satisfied: nvidia-cusparselt-cu12==0.7.1 in /usr/local/lib/python3.12/dist-packages (from torch>=2.0.0->torchmetrics) (0.7.1)\n",
            "Requirement already satisfied: nvidia-nccl-cu12==2.27.3 in /usr/local/lib/python3.12/dist-packages (from torch>=2.0.0->torchmetrics) (2.27.3)\n",
            "Requirement already satisfied: nvidia-nvtx-cu12==12.6.77 in /usr/local/lib/python3.12/dist-packages (from torch>=2.0.0->torchmetrics) (12.6.77)\n",
            "Requirement already satisfied: nvidia-nvjitlink-cu12==12.6.85 in /usr/local/lib/python3.12/dist-packages (from torch>=2.0.0->torchmetrics) (12.6.85)\n",
            "Requirement already satisfied: nvidia-cufile-cu12==1.11.1.6 in /usr/local/lib/python3.12/dist-packages (from torch>=2.0.0->torchmetrics) (1.11.1.6)\n",
            "Requirement already satisfied: triton==3.4.0 in /usr/local/lib/python3.12/dist-packages (from torch>=2.0.0->torchmetrics) (3.4.0)\n",
            "Requirement already satisfied: mpmath<1.4,>=1.1.0 in /usr/local/lib/python3.12/dist-packages (from sympy>=1.13.3->torch>=2.0.0->torchmetrics) (1.3.0)\n",
            "Requirement already satisfied: MarkupSafe>=2.0 in /usr/local/lib/python3.12/dist-packages (from jinja2->torch>=2.0.0->torchmetrics) (3.0.2)\n",
            "Downloading torchmetrics-1.8.1-py3-none-any.whl (982 kB)\n",
            "\u001b[2K   \u001b[90m━━━━━━━━━━━━━━━━━━━━━━━━━━━━━━━━━━━━━━━━\u001b[0m \u001b[32m983.0/983.0 kB\u001b[0m \u001b[31m45.0 MB/s\u001b[0m eta \u001b[36m0:00:00\u001b[0m\n",
            "\u001b[?25hDownloading lightning_utilities-0.15.2-py3-none-any.whl (29 kB)\n",
            "Installing collected packages: lightning-utilities, torchmetrics\n",
            "Successfully installed lightning-utilities-0.15.2 torchmetrics-1.8.1\n"
          ]
        }
      ],
      "source": [
        "!pip install torchmetrics"
      ]
    },
    {
      "cell_type": "code",
      "execution_count": null,
      "id": "17d1d8ea",
      "metadata": {
        "vscode": {
          "languageId": "plaintext"
        },
        "id": "17d1d8ea"
      },
      "outputs": [],
      "source": [
        "import torch\n",
        "from torch import nn\n",
        "import torchvision as tv\n",
        "import torchmetrics as tm\n",
        "from torchvision import transforms\n",
        "from torchvision.datasets import Flowers102\n",
        "from torch.utils.data import Dataset, DataLoader\n",
        "\n",
        "import math\n",
        "import random\n",
        "import numpy as np\n",
        "from PIL import Image\n",
        "import seaborn as sns\n",
        "import matplotlib.pyplot as plt\n",
        "from collections import Counter"
      ]
    },
    {
      "cell_type": "markdown",
      "source": [
        "# Configuration"
      ],
      "metadata": {
        "id": "xrBFl1M-WGnj"
      },
      "id": "xrBFl1M-WGnj"
    },
    {
      "cell_type": "code",
      "execution_count": null,
      "id": "4b805b81",
      "metadata": {
        "vscode": {
          "languageId": "plaintext"
        },
        "id": "4b805b81",
        "colab": {
          "base_uri": "https://localhost:8080/"
        },
        "outputId": "5a459864-f603-47d0-a8e0-97a38a223893"
      },
      "outputs": [
        {
          "output_type": "stream",
          "name": "stdout",
          "text": [
            "{'seed': 42, 'device': 'cuda', 'root_dir': './data', 'image_size': 224, 'batch_size': 32, 'num_workers': 2, 'pin_memory': True, 'architecture': 'resnet50', 'pretrained': True, 'num_classes': 102, 'epochs': 25, 'lr_head': 0.001, 'lr_backbone': 0.0001, 'weight_decay': 0.0001, 'label_smoothing': 0.0, 'scheduler': 'onecycle', 'use_class_weights': True, 'use_weighted_sampler': False, 'log_every_n_steps': 20, 'save_best_by': 'val_loss', 'checkpoint_dir': 'No checkpoints for now'}\n"
          ]
        }
      ],
      "source": [
        "conf_dict = {\n",
        "    # Reproducibility\n",
        "    \"seed\": 42,\n",
        "\n",
        "    # Computing Device\n",
        "    \"device\": \"cuda\" if torch.cuda.is_available() else \"cpu\",\n",
        "\n",
        "    # Data Settings\n",
        "    \"root_dir\": \"./data\",\n",
        "    \"image_size\": 224,\n",
        "    \"batch_size\": 32,\n",
        "    \"num_workers\": 2,\n",
        "    \"pin_memory\": True,\n",
        "\n",
        "    # Model Settings\n",
        "    \"architecture\": \"resnet50\",   # Backbone Architecture\n",
        "    \"pretrained\": True,\n",
        "    \"num_classes\": 102,\n",
        "\n",
        "    # Training Hyperparameters\n",
        "    \"epochs\": 25,\n",
        "    \"lr_head\": 1e-3,              # LR for classifier head\n",
        "    \"lr_backbone\": 1e-4,          # Lower LR for fine-tuning backbone\n",
        "    \"weight_decay\": 1e-4,\n",
        "    \"label_smoothing\": 0.0,\n",
        "\n",
        "    # Scheduler\n",
        "    \"scheduler\": \"onecycle\",\n",
        "\n",
        "    # Imbalance Handling\n",
        "    \"use_class_weights\": True,\n",
        "    \"use_weighted_sampler\": False,\n",
        "\n",
        "    # Logging & Saving\n",
        "    \"log_every_n_steps\": 20,\n",
        "    \"save_best_by\": \"val_loss\",\n",
        "    \"checkpoint_dir\": \"No checkpoints for now\"\n",
        "}\n",
        "\n",
        "print(conf_dict)"
      ]
    },
    {
      "cell_type": "code",
      "source": [
        "device = conf_dict[\"device\"]"
      ],
      "metadata": {
        "id": "EQ1ag1Yjzx_J"
      },
      "id": "EQ1ag1Yjzx_J",
      "execution_count": null,
      "outputs": []
    },
    {
      "cell_type": "code",
      "execution_count": null,
      "id": "22699315",
      "metadata": {
        "vscode": {
          "languageId": "plaintext"
        },
        "id": "22699315"
      },
      "outputs": [],
      "source": [
        "# Set seed for reproducibility\n",
        "SEED = conf_dict[\"seed\"]\n",
        "\n",
        "random.seed(SEED)\n",
        "np.random.seed(SEED)\n",
        "torch.manual_seed(SEED)\n",
        "\n",
        "if torch.cuda.is_available():\n",
        "  torch.cuda.manual_seed(SEED)\n",
        "  torch.cuda.manual_seed_all(SEED)\n",
        "\n",
        "# Ensure deterministic behavior\n",
        "## for speed over strict determinism, set deterministic=False and benchmark=True\n",
        "torch.backends.cudnn.deterministic = True\n",
        "torch.backends.cudnn.benchmark = False"
      ]
    },
    {
      "cell_type": "markdown",
      "source": [
        "# Data Transforms"
      ],
      "metadata": {
        "id": "BKW2pnQQZiBf"
      },
      "id": "BKW2pnQQZiBf"
    },
    {
      "cell_type": "code",
      "execution_count": null,
      "id": "93affe98",
      "metadata": {
        "vscode": {
          "languageId": "plaintext"
        },
        "id": "93affe98"
      },
      "outputs": [],
      "source": [
        "# Normalization values (ImageNet)\n",
        "mean = [0.485, 0.456, 0.406]\n",
        "std = [0.229, 0.224, 0.225]\n",
        "\n",
        "# Traning Transforms (Augmentaion + Normalization)\n",
        "train_transforms = transforms.Compose([\n",
        "    transforms.RandomResizedCrop(224),\n",
        "    transforms.RandomHorizontalFlip(),\n",
        "    transforms.ColorJitter(\n",
        "        brightness = 0.2, contrast = 0.2, saturation = 0.2, hue = 0.1\n",
        "    ),\n",
        "    transforms.ToTensor(),\n",
        "    transforms.Normalize(\n",
        "        mean = mean, std = std\n",
        "    )\n",
        "])\n",
        "\n",
        "# Validation & Test Transforms (No heavy augmentation, just resize and center)\n",
        "val_transforms = transforms.Compose([\n",
        "    transforms.Resize(256),\n",
        "    transforms.CenterCrop(224),\n",
        "    transforms.ToTensor(),\n",
        "    transforms.Normalize(\n",
        "        mean = mean, std = std\n",
        "    )\n",
        "])\n",
        "\n",
        "test_transforms = val_transforms"
      ]
    },
    {
      "cell_type": "markdown",
      "source": [
        "# Load Data"
      ],
      "metadata": {
        "id": "elcNredIQYw5"
      },
      "id": "elcNredIQYw5"
    },
    {
      "cell_type": "code",
      "source": [
        "# Load Datasets\n",
        "train_dataset = Flowers102(root=conf_dict[\"root_dir\"], split=\"train\", transform=train_transforms, download=True)\n",
        "val_dataset = Flowers102(root=conf_dict[\"root_dir\"], split=\"val\", transform=val_transforms, download=True)\n",
        "test_dataset = Flowers102(root=conf_dict[\"root_dir\"], split=\"test\", transform=test_transforms, download=True)"
      ],
      "metadata": {
        "id": "Uiy3JtkxQYRu",
        "colab": {
          "base_uri": "https://localhost:8080/"
        },
        "outputId": "1b092b5b-52af-4de5-9449-8900a772871f"
      },
      "id": "Uiy3JtkxQYRu",
      "execution_count": null,
      "outputs": [
        {
          "output_type": "stream",
          "name": "stderr",
          "text": [
            "100%|██████████| 345M/345M [00:17<00:00, 19.6MB/s]\n",
            "100%|██████████| 502/502 [00:00<00:00, 401kB/s]\n",
            "100%|██████████| 15.0k/15.0k [00:00<00:00, 27.7MB/s]\n"
          ]
        }
      ]
    },
    {
      "cell_type": "code",
      "execution_count": null,
      "id": "d733585c",
      "metadata": {
        "vscode": {
          "languageId": "plaintext"
        },
        "id": "d733585c"
      },
      "outputs": [],
      "source": [
        "# Define Default DataLoaders\n",
        "train_loader = DataLoader(\n",
        "    train_dataset, batch_size = conf_dict[\"batch_size\"], shuffle = True,\n",
        "    num_workers = conf_dict[\"num_workers\"], pin_memory = conf_dict[\"pin_memory\"]\n",
        ")\n",
        "\n",
        "val_loader = DataLoader(\n",
        "    val_dataset, batch_size = conf_dict[\"batch_size\"], shuffle = False,\n",
        "    num_workers = conf_dict[\"num_workers\"], pin_memory = conf_dict[\"pin_memory\"]\n",
        ")\n",
        "\n",
        "test_loader = DataLoader(\n",
        "    test_dataset, batch_size = conf_dict[\"batch_size\"], shuffle = False,\n",
        "    num_workers = conf_dict[\"num_workers\"], pin_memory = conf_dict[\"pin_memory\"]\n",
        ")"
      ]
    },
    {
      "cell_type": "code",
      "source": [
        "# Check Class Imbalance\n",
        "\n",
        "# Count samples per class in training set\n",
        "targets = train_dataset._labels if hasattr(train_dataset, \"_labels\") else train_dataset.labels\n",
        "class_counts = Counter(targets)\n",
        "print(\"Class counts:\", class_counts)\n",
        "\n",
        "# Calculate weights: total_samples / (num_classes * count[class])\n",
        "classes = train_dataset.classes\n",
        "num_classes = len(classes)\n",
        "total_samples = len(train_dataset)\n",
        "class_weights = []\n",
        "\n",
        "for c in range(num_classes):\n",
        "  weight = total_samples / (num_classes * class_counts[c])\n",
        "  class_weights.append(weight)\n",
        "\n",
        "# Convert to tensor\n",
        "class_weights = torch.tensor(class_weights, dtype=torch.float).to(device)\n",
        "\n",
        "# Define loss with weights\n",
        "criterion = nn.CrossEntropyLoss(weight = class_weights)"
      ],
      "metadata": {
        "id": "SEqKIqQyyA7N",
        "colab": {
          "base_uri": "https://localhost:8080/"
        },
        "outputId": "4906b3b7-9d3c-4ce7-c9b0-2bef96583b4a"
      },
      "id": "SEqKIqQyyA7N",
      "execution_count": null,
      "outputs": [
        {
          "output_type": "stream",
          "name": "stdout",
          "text": [
            "Class counts: Counter({0: 10, 1: 10, 2: 10, 3: 10, 4: 10, 5: 10, 6: 10, 7: 10, 8: 10, 9: 10, 10: 10, 11: 10, 12: 10, 13: 10, 14: 10, 15: 10, 20: 10, 16: 10, 17: 10, 18: 10, 19: 10, 21: 10, 22: 10, 23: 10, 24: 10, 25: 10, 26: 10, 27: 10, 28: 10, 29: 10, 30: 10, 31: 10, 32: 10, 33: 10, 34: 10, 35: 10, 36: 10, 37: 10, 38: 10, 39: 10, 40: 10, 41: 10, 42: 10, 43: 10, 44: 10, 45: 10, 46: 10, 47: 10, 48: 10, 49: 10, 50: 10, 51: 10, 52: 10, 53: 10, 54: 10, 55: 10, 56: 10, 57: 10, 58: 10, 59: 10, 60: 10, 61: 10, 62: 10, 63: 10, 64: 10, 65: 10, 66: 10, 67: 10, 68: 10, 69: 10, 70: 10, 71: 10, 72: 10, 73: 10, 74: 10, 75: 10, 76: 10, 77: 10, 78: 10, 79: 10, 80: 10, 81: 10, 82: 10, 83: 10, 84: 10, 85: 10, 86: 10, 87: 10, 88: 10, 89: 10, 90: 10, 91: 10, 92: 10, 93: 10, 94: 10, 95: 10, 96: 10, 97: 10, 98: 10, 99: 10, 100: 10, 101: 10})\n"
          ]
        }
      ]
    },
    {
      "cell_type": "code",
      "source": [
        "# Plot distributions (counts vs weights)\n",
        "\n",
        "# Convert counts into a list aligned with class indices\n",
        "counts_list = [class_counts[c] for c in range(num_classes)]\n",
        "\n",
        "# Print first 10 classes as a quick sanity check\n",
        "for i in range(10):\n",
        "    print(f\"Class {i:3d} | Count: {counts_list[i]:4d} | Weight: {class_weights[i].item():.4f}\")\n",
        "\n",
        "fig, ax1 = plt.subplots(figsize=(14,6))\n",
        "\n",
        "# Plot counts on left y-axis\n",
        "ax1.bar(range(num_classes), counts_list, alpha=0.6, label=\"Class Counts\")\n",
        "ax1.set_xlabel(\"Class Index\")\n",
        "ax1.set_ylabel(\"Number of Samples\")\n",
        "ax1.legend(loc=\"upper left\")\n",
        "\n",
        "# Plot weights on right y-axis\n",
        "ax2 = ax1.twinx()\n",
        "ax2.plot(range(num_classes), class_weights.cpu().numpy(), 'r-', label=\"Class Weights\")\n",
        "ax2.set_ylabel(\"Class Weight\")\n",
        "ax2.legend(loc=\"upper right\")\n",
        "\n",
        "plt.title(\"Class Distribution vs. Computed Weights\")\n",
        "plt.show()"
      ],
      "metadata": {
        "id": "2-lb3JzSyA4l",
        "colab": {
          "base_uri": "https://localhost:8080/",
          "height": 527
        },
        "outputId": "51f974df-22b6-4a7f-b44f-911e28de071f"
      },
      "id": "2-lb3JzSyA4l",
      "execution_count": null,
      "outputs": [
        {
          "output_type": "stream",
          "name": "stdout",
          "text": [
            "Class   0 | Count:   10 | Weight: 1.0000\n",
            "Class   1 | Count:   10 | Weight: 1.0000\n",
            "Class   2 | Count:   10 | Weight: 1.0000\n",
            "Class   3 | Count:   10 | Weight: 1.0000\n",
            "Class   4 | Count:   10 | Weight: 1.0000\n",
            "Class   5 | Count:   10 | Weight: 1.0000\n",
            "Class   6 | Count:   10 | Weight: 1.0000\n",
            "Class   7 | Count:   10 | Weight: 1.0000\n",
            "Class   8 | Count:   10 | Weight: 1.0000\n",
            "Class   9 | Count:   10 | Weight: 1.0000\n"
          ]
        },
        {
          "output_type": "display_data",
          "data": {
            "text/plain": [
              "<Figure size 1400x600 with 2 Axes>"
            ],
            "image/png": "[encoded data removed]"
          },
          "metadata": {}
        }
      ]
    },
    {
      "cell_type": "markdown",
      "source": [
        "No class imabalance exists in the Flowers102 dataset."
      ],
      "metadata": {
        "id": "9ZAMqeNAQ2o2"
      },
      "id": "9ZAMqeNAQ2o2"
    },
    {
      "cell_type": "markdown",
      "source": [
        "# Classfier Head"
      ],
      "metadata": {
        "id": "sSCYxscPz19e"
      },
      "id": "sSCYxscPz19e"
    },
    {
      "cell_type": "markdown",
      "source": [
        "## Model Definition"
      ],
      "metadata": {
        "id": "jRp3GzZg2YlL"
      },
      "id": "jRp3GzZg2YlL"
    },
    {
      "cell_type": "code",
      "source": [
        "# Load pretrained ResNet18\n",
        "model = tv.models.resnet18(\n",
        "    weights = tv.models.ResNet18_Weights.DEFAULT\n",
        ")\n",
        "\n",
        "# Freeze all model parameters\n",
        "for params in model.parameters():\n",
        "  params.requires_grad = False\n",
        "\n",
        "# Get the number of input features to the final layer\n",
        "in_features = model.fc.in_features\n",
        "\n",
        "# Replace the final fc layer to match 102 classes\n",
        "model.fc = nn.Linear(in_features, 102)\n",
        "\n",
        "# Unfreeze only classifier parameters\n",
        "for params in model.fc.parameters():\n",
        "  params.requires_grad = True\n",
        "\n",
        "model.to(device)\n",
        "\n",
        "# Double-check which params will be trained\n",
        "for name, param in model.named_parameters():\n",
        "    if param.requires_grad:\n",
        "        print(\"Trainable:\", name)"
      ],
      "metadata": {
        "id": "Og71Y1YeyA2S",
        "colab": {
          "base_uri": "https://localhost:8080/"
        },
        "outputId": "edd0bf01-bb77-4448-b7aa-00e80e9b7dc0"
      },
      "id": "Og71Y1YeyA2S",
      "execution_count": null,
      "outputs": [
        {
          "output_type": "stream",
          "name": "stdout",
          "text": [
            "Trainable: fc.weight\n",
            "Trainable: fc.bias\n"
          ]
        }
      ]
    },
    {
      "cell_type": "code",
      "source": [
        "print(model)"
      ],
      "metadata": {
        "id": "1pyAFNT4yAz5",
        "colab": {
          "base_uri": "https://localhost:8080/"
        },
        "outputId": "6eb10746-510b-4c89-b623-2f191823a3f8"
      },
      "id": "1pyAFNT4yAz5",
      "execution_count": null,
      "outputs": [
        {
          "output_type": "stream",
          "name": "stdout",
          "text": [
            "ResNet(\n",
            "  (conv1): Conv2d(3, 64, kernel_size=(7, 7), stride=(2, 2), padding=(3, 3), bias=False)\n",
            "  (bn1): BatchNorm2d(64, eps=1e-05, momentum=0.1, affine=True, track_running_stats=True)\n",
            "  (relu): ReLU(inplace=True)\n",
            "  (maxpool): MaxPool2d(kernel_size=3, stride=2, padding=1, dilation=1, ceil_mode=False)\n",
            "  (layer1): Sequential(\n",
            "    (0): BasicBlock(\n",
            "      (conv1): Conv2d(64, 64, kernel_size=(3, 3), stride=(1, 1), padding=(1, 1), bias=False)\n",
            "      (bn1): BatchNorm2d(64, eps=1e-05, momentum=0.1, affine=True, track_running_stats=True)\n",
            "      (relu): ReLU(inplace=True)\n",
            "      (conv2): Conv2d(64, 64, kernel_size=(3, 3), stride=(1, 1), padding=(1, 1), bias=False)\n",
            "      (bn2): BatchNorm2d(64, eps=1e-05, momentum=0.1, affine=True, track_running_stats=True)\n",
            "    )\n",
            "    (1): BasicBlock(\n",
            "      (conv1): Conv2d(64, 64, kernel_size=(3, 3), stride=(1, 1), padding=(1, 1), bias=False)\n",
            "      (bn1): BatchNorm2d(64, eps=1e-05, momentum=0.1, affine=True, track_running_stats=True)\n",
            "      (relu): ReLU(inplace=True)\n",
            "      (conv2): Conv2d(64, 64, kernel_size=(3, 3), stride=(1, 1), padding=(1, 1), bias=False)\n",
            "      (bn2): BatchNorm2d(64, eps=1e-05, momentum=0.1, affine=True, track_running_stats=True)\n",
            "    )\n",
            "  )\n",
            "  (layer2): Sequential(\n",
            "    (0): BasicBlock(\n",
            "      (conv1): Conv2d(64, 128, kernel_size=(3, 3), stride=(2, 2), padding=(1, 1), bias=False)\n",
            "      (bn1): BatchNorm2d(128, eps=1e-05, momentum=0.1, affine=True, track_running_stats=True)\n",
            "      (relu): ReLU(inplace=True)\n",
            "      (conv2): Conv2d(128, 128, kernel_size=(3, 3), stride=(1, 1), padding=(1, 1), bias=False)\n",
            "      (bn2): BatchNorm2d(128, eps=1e-05, momentum=0.1, affine=True, track_running_stats=True)\n",
            "      (downsample): Sequential(\n",
            "        (0): Conv2d(64, 128, kernel_size=(1, 1), stride=(2, 2), bias=False)\n",
            "        (1): BatchNorm2d(128, eps=1e-05, momentum=0.1, affine=True, track_running_stats=True)\n",
            "      )\n",
            "    )\n",
            "    (1): BasicBlock(\n",
            "      (conv1): Conv2d(128, 128, kernel_size=(3, 3), stride=(1, 1), padding=(1, 1), bias=False)\n",
            "      (bn1): BatchNorm2d(128, eps=1e-05, momentum=0.1, affine=True, track_running_stats=True)\n",
            "      (relu): ReLU(inplace=True)\n",
            "      (conv2): Conv2d(128, 128, kernel_size=(3, 3), stride=(1, 1), padding=(1, 1), bias=False)\n",
            "      (bn2): BatchNorm2d(128, eps=1e-05, momentum=0.1, affine=True, track_running_stats=True)\n",
            "    )\n",
            "  )\n",
            "  (layer3): Sequential(\n",
            "    (0): BasicBlock(\n",
            "      (conv1): Conv2d(128, 256, kernel_size=(3, 3), stride=(2, 2), padding=(1, 1), bias=False)\n",
            "      (bn1): BatchNorm2d(256, eps=1e-05, momentum=0.1, affine=True, track_running_stats=True)\n",
            "      (relu): ReLU(inplace=True)\n",
            "      (conv2): Conv2d(256, 256, kernel_size=(3, 3), stride=(1, 1), padding=(1, 1), bias=False)\n",
            "      (bn2): BatchNorm2d(256, eps=1e-05, momentum=0.1, affine=True, track_running_stats=True)\n",
            "      (downsample): Sequential(\n",
            "        (0): Conv2d(128, 256, kernel_size=(1, 1), stride=(2, 2), bias=False)\n",
            "        (1): BatchNorm2d(256, eps=1e-05, momentum=0.1, affine=True, track_running_stats=True)\n",
            "      )\n",
            "    )\n",
            "    (1): BasicBlock(\n",
            "      (conv1): Conv2d(256, 256, kernel_size=(3, 3), stride=(1, 1), padding=(1, 1), bias=False)\n",
            "      (bn1): BatchNorm2d(256, eps=1e-05, momentum=0.1, affine=True, track_running_stats=True)\n",
            "      (relu): ReLU(inplace=True)\n",
            "      (conv2): Conv2d(256, 256, kernel_size=(3, 3), stride=(1, 1), padding=(1, 1), bias=False)\n",
            "      (bn2): BatchNorm2d(256, eps=1e-05, momentum=0.1, affine=True, track_running_stats=True)\n",
            "    )\n",
            "  )\n",
            "  (layer4): Sequential(\n",
            "    (0): BasicBlock(\n",
            "      (conv1): Conv2d(256, 512, kernel_size=(3, 3), stride=(2, 2), padding=(1, 1), bias=False)\n",
            "      (bn1): BatchNorm2d(512, eps=1e-05, momentum=0.1, affine=True, track_running_stats=True)\n",
            "      (relu): ReLU(inplace=True)\n",
            "      (conv2): Conv2d(512, 512, kernel_size=(3, 3), stride=(1, 1), padding=(1, 1), bias=False)\n",
            "      (bn2): BatchNorm2d(512, eps=1e-05, momentum=0.1, affine=True, track_running_stats=True)\n",
            "      (downsample): Sequential(\n",
            "        (0): Conv2d(256, 512, kernel_size=(1, 1), stride=(2, 2), bias=False)\n",
            "        (1): BatchNorm2d(512, eps=1e-05, momentum=0.1, affine=True, track_running_stats=True)\n",
            "      )\n",
            "    )\n",
            "    (1): BasicBlock(\n",
            "      (conv1): Conv2d(512, 512, kernel_size=(3, 3), stride=(1, 1), padding=(1, 1), bias=False)\n",
            "      (bn1): BatchNorm2d(512, eps=1e-05, momentum=0.1, affine=True, track_running_stats=True)\n",
            "      (relu): ReLU(inplace=True)\n",
            "      (conv2): Conv2d(512, 512, kernel_size=(3, 3), stride=(1, 1), padding=(1, 1), bias=False)\n",
            "      (bn2): BatchNorm2d(512, eps=1e-05, momentum=0.1, affine=True, track_running_stats=True)\n",
            "    )\n",
            "  )\n",
            "  (avgpool): AdaptiveAvgPool2d(output_size=(1, 1))\n",
            "  (fc): Linear(in_features=512, out_features=102, bias=True)\n",
            ")\n"
          ]
        }
      ]
    },
    {
      "cell_type": "markdown",
      "source": [
        "## Model Training"
      ],
      "metadata": {
        "id": "GmJBCXYT8Pwq"
      },
      "id": "GmJBCXYT8Pwq"
    },
    {
      "cell_type": "code",
      "source": [
        "# Define Optmizer\n",
        "optimizer = torch.optim.Adam(\n",
        "    model.fc.parameters(),\n",
        "    lr = conf_dict[\"lr_head\"],\n",
        "    weight_decay = conf_dict[\"weight_decay\"]\n",
        ")\n",
        "\n",
        "# Define Scheduler\n",
        "steps_per_epoch = math.ceil(len(train_loader))\n",
        "\n",
        "scheduler = torch.optim.lr_scheduler.OneCycleLR(\n",
        "    optimizer,\n",
        "    max_lr = conf_dict[\"lr_head\"],\n",
        "    steps_per_epoch = steps_per_epoch,\n",
        "    epochs = conf_dict[\"epochs\"]\n",
        ")"
      ],
      "metadata": {
        "id": "i9Z7KfSO4WwY"
      },
      "id": "i9Z7KfSO4WwY",
      "execution_count": null,
      "outputs": []
    },
    {
      "cell_type": "code",
      "source": [
        "# Training Loop\n",
        "train_loss, val_loss = [], []\n",
        "train_acc, val_acc = [], []\n",
        "\n",
        "for epoch in range(conf_dict[\"epochs\"]):\n",
        "\n",
        "  # Training Phase\n",
        "  model.train()\n",
        "  epoch_train_loss = 0.0\n",
        "  correct_train, total_train = 0, 0\n",
        "\n",
        "  for images, labels in train_loader:\n",
        "    images, labels = images.to(device), labels.to(device)\n",
        "    optimizer.zero_grad()\n",
        "    outputs = model(images)\n",
        "    loss = criterion(outputs, labels)\n",
        "    loss.backward()\n",
        "    optimizer.step()\n",
        "    scheduler.step()\n",
        "\n",
        "    epoch_train_loss += loss.item()\n",
        "\n",
        "    preds = torch.argmax(outputs, dim=1)\n",
        "    correct_train += (preds == labels).sum().item()\n",
        "    total_train += labels.size(0)\n",
        "\n",
        "  epoch_train_loss /= len(train_loader)\n",
        "  epoch_train_acc = correct_train / total_train\n",
        "  train_loss.append(epoch_train_loss)\n",
        "  train_acc.append(epoch_train_acc)\n",
        "\n",
        "  # Validation Phase\n",
        "  model.eval()\n",
        "  epoch_val_loss = 0.0\n",
        "  correct_val, total_val = 0, 0\n",
        "\n",
        "  with torch.no_grad():\n",
        "    for images, labels in val_loader:\n",
        "      images, labels = images.to(device), labels.to(device)\n",
        "      outputs = model(images)\n",
        "      loss = criterion(outputs, labels)\n",
        "      epoch_val_loss += loss.item()\n",
        "\n",
        "      preds = torch.argmax(outputs, dim=1)\n",
        "      correct_val += (preds == labels).sum().item()\n",
        "      total_val += labels.size(0)\n",
        "\n",
        "  epoch_val_loss /= len(val_loader)\n",
        "  epoch_val_acc = correct_val / total_val\n",
        "  val_loss.append(epoch_val_loss)\n",
        "  val_acc.append(epoch_val_acc)\n",
        "\n",
        "  print(f\"Epoch [{epoch+1}/{conf_dict['epochs']}], \"\n",
        "          f\"Train Loss: {epoch_train_loss:.4f}, Acc: {epoch_train_acc:.4f}, \"\n",
        "          f\"Val Loss: {epoch_val_loss:.4f}, Acc: {epoch_val_acc:.4f}\"\n",
        "  )"
      ],
      "metadata": {
        "id": "PV3PnFfz8iG1",
        "colab": {
          "base_uri": "https://localhost:8080/"
        },
        "outputId": "ad91c06f-6d7e-4cd7-a45a-e676d7eeb30a"
      },
      "id": "PV3PnFfz8iG1",
      "execution_count": null,
      "outputs": [
        {
          "output_type": "stream",
          "name": "stdout",
          "text": [
            "Epoch [1/25], Train Loss: 0.8964, Acc: 0.8588, Val Loss: 0.8662, Acc: 0.8510\n",
            "Epoch [2/25], Train Loss: 0.8117, Acc: 0.9029, Val Loss: 0.8488, Acc: 0.8520\n",
            "Epoch [3/25], Train Loss: 0.8082, Acc: 0.8912, Val Loss: 0.8484, Acc: 0.8412\n",
            "Epoch [4/25], Train Loss: 0.8325, Acc: 0.8784, Val Loss: 0.8110, Acc: 0.8559\n",
            "Epoch [5/25], Train Loss: 0.8224, Acc: 0.8814, Val Loss: 0.7981, Acc: 0.8578\n",
            "Epoch [6/25], Train Loss: 0.7629, Acc: 0.8912, Val Loss: 0.7929, Acc: 0.8402\n",
            "Epoch [7/25], Train Loss: 0.7541, Acc: 0.8794, Val Loss: 0.7549, Acc: 0.8431\n",
            "Epoch [8/25], Train Loss: 0.6841, Acc: 0.8843, Val Loss: 0.7329, Acc: 0.8539\n",
            "Epoch [9/25], Train Loss: 0.6918, Acc: 0.8824, Val Loss: 0.6903, Acc: 0.8598\n",
            "Epoch [10/25], Train Loss: 0.6082, Acc: 0.8941, Val Loss: 0.7018, Acc: 0.8353\n",
            "Epoch [11/25], Train Loss: 0.6388, Acc: 0.8990, Val Loss: 0.6549, Acc: 0.8618\n",
            "Epoch [12/25], Train Loss: 0.6355, Acc: 0.8853, Val Loss: 0.6712, Acc: 0.8441\n",
            "Epoch [13/25], Train Loss: 0.5339, Acc: 0.9167, Val Loss: 0.6367, Acc: 0.8588\n",
            "Epoch [14/25], Train Loss: 0.4967, Acc: 0.9147, Val Loss: 0.6147, Acc: 0.8539\n",
            "Epoch [15/25], Train Loss: 0.5300, Acc: 0.9039, Val Loss: 0.6185, Acc: 0.8578\n",
            "Epoch [16/25], Train Loss: 0.5008, Acc: 0.9098, Val Loss: 0.6016, Acc: 0.8627\n",
            "Epoch [17/25], Train Loss: 0.5124, Acc: 0.9020, Val Loss: 0.5921, Acc: 0.8549\n",
            "Epoch [18/25], Train Loss: 0.4819, Acc: 0.9088, Val Loss: 0.5737, Acc: 0.8706\n",
            "Epoch [19/25], Train Loss: 0.4515, Acc: 0.9235, Val Loss: 0.5790, Acc: 0.8637\n",
            "Epoch [20/25], Train Loss: 0.4039, Acc: 0.9412, Val Loss: 0.5612, Acc: 0.8745\n",
            "Epoch [21/25], Train Loss: 0.4241, Acc: 0.9343, Val Loss: 0.5556, Acc: 0.8775\n",
            "Epoch [22/25], Train Loss: 0.4243, Acc: 0.9324, Val Loss: 0.5591, Acc: 0.8755\n",
            "Epoch [23/25], Train Loss: 0.4494, Acc: 0.9284, Val Loss: 0.5646, Acc: 0.8725\n",
            "Epoch [24/25], Train Loss: 0.4263, Acc: 0.9333, Val Loss: 0.5587, Acc: 0.8755\n",
            "Epoch [25/25], Train Loss: 0.4544, Acc: 0.9314, Val Loss: 0.5632, Acc: 0.8696\n"
          ]
        }
      ]
    },
    {
      "cell_type": "code",
      "source": [
        "# Loss Curve\n",
        "plt.figure(figsize=(8, 6))\n",
        "plt.plot(train_loss, label=\"Train Loss\")\n",
        "plt.plot(val_loss, label=\"Validation Loss\")\n",
        "plt.xlabel(\"Epoch\")\n",
        "plt.ylabel(\"Loss\")\n",
        "plt.title(\"Training vs Validation Loss\")\n",
        "plt.legend()\n",
        "plt.grid(True)\n",
        "plt.show()\n",
        "\n",
        "# Accuracy Curve\n",
        "plt.figure(figsize=(8, 6))\n",
        "plt.plot(train_acc, label=\"Train Accuracy\")\n",
        "plt.plot(val_acc, label=\"Validation Accuracy\")\n",
        "plt.xlabel(\"Epoch\")\n",
        "plt.ylabel(\"Accuracy\")\n",
        "plt.title(\"Training vs Validation Accuracy\")\n",
        "plt.legend()\n",
        "plt.grid(True)\n",
        "plt.show()"
      ],
      "metadata": {
        "id": "XQxWTgDYD-MY",
        "colab": {
          "base_uri": "https://localhost:8080/",
          "height": 1000
        },
        "outputId": "7a01f92a-0ca5-4db0-b57f-558b3eed744d"
      },
      "id": "XQxWTgDYD-MY",
      "execution_count": null,
      "outputs": [
        {
          "output_type": "display_data",
          "data": {
            "text/plain": [
              "<Figure size 800x600 with 1 Axes>"
            ],
            "image/png": "[encoded data removed]"
          },
          "metadata": {}
        },
        {
          "output_type": "display_data",
          "data": {
            "text/plain": [
              "<Figure size 800x600 with 1 Axes>"
            ],
            "image/png": "[encoded data removed]"
          },
          "metadata": {}
        }
      ]
    },
    {
      "cell_type": "markdown",
      "source": [
        "## Evaluation"
      ],
      "metadata": {
        "id": "nZjJJmbnjBb9"
      },
      "id": "nZjJJmbnjBb9"
    },
    {
      "cell_type": "code",
      "source": [
        "num_classes = conf_dict[\"num_classes\"]\n",
        "\n",
        "accuracy = tm.Accuracy(\n",
        "    task = \"multiclass\",\n",
        "    num_classes = num_classes,\n",
        ").to(device)\n",
        "\n",
        "precision = tm.Precision(\n",
        "    task = \"multiclass\",\n",
        "    num_classes = num_classes,\n",
        "    average = \"macro\"\n",
        ").to(device)\n",
        "\n",
        "recall = tm.Recall(\n",
        "    task = \"multiclass\",\n",
        "    num_classes = num_classes,\n",
        "    average = \"macro\"\n",
        ").to(device)\n",
        "\n",
        "f1 = tm.F1Score(\n",
        "    task = \"multiclass\",\n",
        "    num_classes = num_classes,\n",
        "    average = \"macro\"\n",
        ").to(device)\n",
        "\n",
        "# conf_mat = tm.ConfusionMatrix(\n",
        "#     task = \"multiclass\",\n",
        "#     num_classes = num_classes,\n",
        "# ).to(device)"
      ],
      "metadata": {
        "id": "xRs9QTxgjAi7"
      },
      "id": "xRs9QTxgjAi7",
      "execution_count": null,
      "outputs": []
    },
    {
      "cell_type": "code",
      "source": [
        "# Evaluation on Test Data\n",
        "model.eval()\n",
        "test_loss = 0.0\n",
        "\n",
        "with torch.no_grad():\n",
        "  for images, labels in test_loader:\n",
        "    images, labels = images.to(device), labels.to(device)\n",
        "    outputs = model(images)\n",
        "    loss = criterion(outputs, labels)\n",
        "    preds = torch.argmax(outputs, dim=1)\n",
        "    test_loss += loss.item()\n",
        "\n",
        "    accuracy(preds, labels)\n",
        "    precision(preds, labels)\n",
        "    recall(preds, labels)\n",
        "    f1(preds, labels)\n",
        "    # conf_mat(preds, labels)\n",
        "\n",
        "test_loss /= len(test_loader)\n",
        "\n",
        "# Compute Metrics\n",
        "test_accuracy = accuracy.compute().item()\n",
        "test_precision = precision.compute().item()\n",
        "test_recall = recall.compute().item()\n",
        "test_f1 = f1.compute().item()\n",
        "# test_cm = conf_mat.compute().cpu().numpy()\n",
        "\n",
        "print(f\"Test Loss: {test_loss:.4f} \\nAccuracy: {test_accuracy:.4f} \\nPrecision: {test_precision:.4f} \\nRecall: {test_recall:.4f} \\nF1: {test_f1:.4f}\")\n",
        "\n",
        "# Plot Confusion Matrix\n",
        "# plt.figure(figsize=(10, 8))\n",
        "# sns.heatmap(test_cm, annot=True, fmt='d', cmap='Blues', xticklabels=classes, yticklabels=classes)\n",
        "# plt.xlabel('Predicted Label')\n",
        "# plt.ylabel('True Label')\n",
        "# plt.title('Confusion Matrix')\n",
        "# plt.show()\n",
        "\n",
        "# Reset Metrics\n",
        "accuracy.reset()\n",
        "precision.reset()\n",
        "recall.reset()\n",
        "f1.reset()\n",
        "# conf_mat.reset()"
      ],
      "metadata": {
        "id": "jfh_KuTZjAg7",
        "colab": {
          "base_uri": "https://localhost:8080/"
        },
        "outputId": "b14f8f6e-60b8-4391-a0de-f72c0526f290"
      },
      "id": "jfh_KuTZjAg7",
      "execution_count": null,
      "outputs": [
        {
          "output_type": "stream",
          "name": "stdout",
          "text": [
            "Test Loss: 0.6376 \n",
            "Accuracy: 0.8518 \n",
            "Precision: 0.8328 \n",
            "Recall: 0.8705 \n",
            "F1: 0.8444\n"
          ]
        }
      ]
    },
    {
      "cell_type": "markdown",
      "source": [
        "# Partial Fine-Tuning"
      ],
      "metadata": {
        "id": "RhkZJr2HBs_8"
      },
      "id": "RhkZJr2HBs_8"
    },
    {
      "cell_type": "markdown",
      "source": [
        "Unfreeze layers close to the classifer head"
      ],
      "metadata": {
        "id": "tgrTgHnDCcLi"
      },
      "id": "tgrTgHnDCcLi"
    },
    {
      "cell_type": "markdown",
      "source": [
        "## Model Definition"
      ],
      "metadata": {
        "id": "rohKiUlLDBFk"
      },
      "id": "rohKiUlLDBFk"
    },
    {
      "cell_type": "code",
      "source": [
        "# Reload pretrained ResNet18\n",
        "model = tv.models.resnet18(\n",
        "    weights = tv.models.ResNet18_Weights.DEFAULT\n",
        ")\n",
        "\n",
        "# Freeze all model parameters\n",
        "for params in model.parameters():\n",
        "  params.requires_grad = False\n",
        "\n",
        "# Get the number of input features to the final layer\n",
        "in_features = model.fc.in_features\n",
        "\n",
        "# Replace the final fc layer to match 102 classes\n",
        "model.fc = nn.Linear(in_features, 102)\n",
        "\n",
        "# Unfreeze last block\n",
        "# For ResNet18, \"layer4\" is the last residual block\n",
        "for param in model.layer4.parameters():\n",
        "    param.requires_grad = True\n",
        "\n",
        "# Unfreeze only classifier parameters\n",
        "for params in model.fc.parameters():\n",
        "  params.requires_grad = True\n",
        "\n",
        "model.to(device)"
      ],
      "metadata": {
        "id": "KZY6FEYRjAeP",
        "colab": {
          "base_uri": "https://localhost:8080/"
        },
        "outputId": "80b0ea58-29c4-4f9b-ddd5-44a973d66d9b"
      },
      "id": "KZY6FEYRjAeP",
      "execution_count": null,
      "outputs": [
        {
          "output_type": "stream",
          "name": "stdout",
          "text": [
            "Downloading: \"https://download.pytorch.org/models/resnet18-f37072fd.pth\" to /root/.cache/torch/hub/checkpoints/resnet18-f37072fd.pth\n"
          ]
        },
        {
          "output_type": "stream",
          "name": "stderr",
          "text": [
            "100%|██████████| 44.7M/44.7M [00:00<00:00, 221MB/s]\n"
          ]
        },
        {
          "output_type": "execute_result",
          "data": {
            "text/plain": [
              "ResNet(\n",
              "  (conv1): Conv2d(3, 64, kernel_size=(7, 7), stride=(2, 2), padding=(3, 3), bias=False)\n",
              "  (bn1): BatchNorm2d(64, eps=1e-05, momentum=0.1, affine=True, track_running_stats=True)\n",
              "  (relu): ReLU(inplace=True)\n",
              "  (maxpool): MaxPool2d(kernel_size=3, stride=2, padding=1, dilation=1, ceil_mode=False)\n",
              "  (layer1): Sequential(\n",
              "    (0): BasicBlock(\n",
              "      (conv1): Conv2d(64, 64, kernel_size=(3, 3), stride=(1, 1), padding=(1, 1), bias=False)\n",
              "      (bn1): BatchNorm2d(64, eps=1e-05, momentum=0.1, affine=True, track_running_stats=True)\n",
              "      (relu): ReLU(inplace=True)\n",
              "      (conv2): Conv2d(64, 64, kernel_size=(3, 3), stride=(1, 1), padding=(1, 1), bias=False)\n",
              "      (bn2): BatchNorm2d(64, eps=1e-05, momentum=0.1, affine=True, track_running_stats=True)\n",
              "    )\n",
              "    (1): BasicBlock(\n",
              "      (conv1): Conv2d(64, 64, kernel_size=(3, 3), stride=(1, 1), padding=(1, 1), bias=False)\n",
              "      (bn1): BatchNorm2d(64, eps=1e-05, momentum=0.1, affine=True, track_running_stats=True)\n",
              "      (relu): ReLU(inplace=True)\n",
              "      (conv2): Conv2d(64, 64, kernel_size=(3, 3), stride=(1, 1), padding=(1, 1), bias=False)\n",
              "      (bn2): BatchNorm2d(64, eps=1e-05, momentum=0.1, affine=True, track_running_stats=True)\n",
              "    )\n",
              "  )\n",
              "  (layer2): Sequential(\n",
              "    (0): BasicBlock(\n",
              "      (conv1): Conv2d(64, 128, kernel_size=(3, 3), stride=(2, 2), padding=(1, 1), bias=False)\n",
              "      (bn1): BatchNorm2d(128, eps=1e-05, momentum=0.1, affine=True, track_running_stats=True)\n",
              "      (relu): ReLU(inplace=True)\n",
              "      (conv2): Conv2d(128, 128, kernel_size=(3, 3), stride=(1, 1), padding=(1, 1), bias=False)\n",
              "      (bn2): BatchNorm2d(128, eps=1e-05, momentum=0.1, affine=True, track_running_stats=True)\n",
              "      (downsample): Sequential(\n",
              "        (0): Conv2d(64, 128, kernel_size=(1, 1), stride=(2, 2), bias=False)\n",
              "        (1): BatchNorm2d(128, eps=1e-05, momentum=0.1, affine=True, track_running_stats=True)\n",
              "      )\n",
              "    )\n",
              "    (1): BasicBlock(\n",
              "      (conv1): Conv2d(128, 128, kernel_size=(3, 3), stride=(1, 1), padding=(1, 1), bias=False)\n",
              "      (bn1): BatchNorm2d(128, eps=1e-05, momentum=0.1, affine=True, track_running_stats=True)\n",
              "      (relu): ReLU(inplace=True)\n",
              "      (conv2): Conv2d(128, 128, kernel_size=(3, 3), stride=(1, 1), padding=(1, 1), bias=False)\n",
              "      (bn2): BatchNorm2d(128, eps=1e-05, momentum=0.1, affine=True, track_running_stats=True)\n",
              "    )\n",
              "  )\n",
              "  (layer3): Sequential(\n",
              "    (0): BasicBlock(\n",
              "      (conv1): Conv2d(128, 256, kernel_size=(3, 3), stride=(2, 2), padding=(1, 1), bias=False)\n",
              "      (bn1): BatchNorm2d(256, eps=1e-05, momentum=0.1, affine=True, track_running_stats=True)\n",
              "      (relu): ReLU(inplace=True)\n",
              "      (conv2): Conv2d(256, 256, kernel_size=(3, 3), stride=(1, 1), padding=(1, 1), bias=False)\n",
              "      (bn2): BatchNorm2d(256, eps=1e-05, momentum=0.1, affine=True, track_running_stats=True)\n",
              "      (downsample): Sequential(\n",
              "        (0): Conv2d(128, 256, kernel_size=(1, 1), stride=(2, 2), bias=False)\n",
              "        (1): BatchNorm2d(256, eps=1e-05, momentum=0.1, affine=True, track_running_stats=True)\n",
              "      )\n",
              "    )\n",
              "    (1): BasicBlock(\n",
              "      (conv1): Conv2d(256, 256, kernel_size=(3, 3), stride=(1, 1), padding=(1, 1), bias=False)\n",
              "      (bn1): BatchNorm2d(256, eps=1e-05, momentum=0.1, affine=True, track_running_stats=True)\n",
              "      (relu): ReLU(inplace=True)\n",
              "      (conv2): Conv2d(256, 256, kernel_size=(3, 3), stride=(1, 1), padding=(1, 1), bias=False)\n",
              "      (bn2): BatchNorm2d(256, eps=1e-05, momentum=0.1, affine=True, track_running_stats=True)\n",
              "    )\n",
              "  )\n",
              "  (layer4): Sequential(\n",
              "    (0): BasicBlock(\n",
              "      (conv1): Conv2d(256, 512, kernel_size=(3, 3), stride=(2, 2), padding=(1, 1), bias=False)\n",
              "      (bn1): BatchNorm2d(512, eps=1e-05, momentum=0.1, affine=True, track_running_stats=True)\n",
              "      (relu): ReLU(inplace=True)\n",
              "      (conv2): Conv2d(512, 512, kernel_size=(3, 3), stride=(1, 1), padding=(1, 1), bias=False)\n",
              "      (bn2): BatchNorm2d(512, eps=1e-05, momentum=0.1, affine=True, track_running_stats=True)\n",
              "      (downsample): Sequential(\n",
              "        (0): Conv2d(256, 512, kernel_size=(1, 1), stride=(2, 2), bias=False)\n",
              "        (1): BatchNorm2d(512, eps=1e-05, momentum=0.1, affine=True, track_running_stats=True)\n",
              "      )\n",
              "    )\n",
              "    (1): BasicBlock(\n",
              "      (conv1): Conv2d(512, 512, kernel_size=(3, 3), stride=(1, 1), padding=(1, 1), bias=False)\n",
              "      (bn1): BatchNorm2d(512, eps=1e-05, momentum=0.1, affine=True, track_running_stats=True)\n",
              "      (relu): ReLU(inplace=True)\n",
              "      (conv2): Conv2d(512, 512, kernel_size=(3, 3), stride=(1, 1), padding=(1, 1), bias=False)\n",
              "      (bn2): BatchNorm2d(512, eps=1e-05, momentum=0.1, affine=True, track_running_stats=True)\n",
              "    )\n",
              "  )\n",
              "  (avgpool): AdaptiveAvgPool2d(output_size=(1, 1))\n",
              "  (fc): Linear(in_features=512, out_features=102, bias=True)\n",
              ")"
            ]
          },
          "metadata": {},
          "execution_count": 12
        }
      ]
    },
    {
      "cell_type": "markdown",
      "source": [
        "## Model Training"
      ],
      "metadata": {
        "id": "DFhTeUanXeQG"
      },
      "id": "DFhTeUanXeQG"
    },
    {
      "cell_type": "code",
      "source": [
        "# Redefine Optimizer\n",
        "optimizer = torch.optim.Adam([\n",
        "    {\"params\": model.layer4.parameters(), \"lr\": conf_dict[\"lr_backbone\"]},\n",
        "    {\"params\": model.fc.parameters(), \"lr\": conf_dict[\"lr_head\"]}\n",
        "])\n",
        "\n",
        "# Redefine Scheduler\n",
        "steps_per_epoch = math.ceil(len(train_loader))\n",
        "\n",
        "scheduler = torch.optim.lr_scheduler.OneCycleLR(\n",
        "    optimizer,\n",
        "    max_lr = [conf_dict[\"lr_backbone\"], conf_dict[\"lr_head\"]],\n",
        "    steps_per_epoch = steps_per_epoch,\n",
        "    epochs = conf_dict[\"epochs\"]\n",
        ")"
      ],
      "metadata": {
        "id": "HNw2mrumjAW8"
      },
      "id": "HNw2mrumjAW8",
      "execution_count": null,
      "outputs": []
    },
    {
      "cell_type": "code",
      "source": [
        "# Training Loop\n",
        "train_loss, val_loss = [], []\n",
        "train_acc, val_acc = [], []\n",
        "\n",
        "for epoch in range(conf_dict[\"epochs\"]):\n",
        "\n",
        "  # Training Phase\n",
        "  model.train()\n",
        "  epoch_train_loss = 0.0\n",
        "\n",
        "  for images, labels in train_loader:\n",
        "    images, labels = images.to(device), labels.to(device)\n",
        "    optimizer.zero_grad()\n",
        "    outputs = model(images)\n",
        "    loss = criterion(outputs, labels)\n",
        "    loss.backward()\n",
        "    optimizer.step()\n",
        "    scheduler.step()\n",
        "    epoch_train_loss += loss.item()\n",
        "\n",
        "    preds = torch.argmax(outputs, dim=1)\n",
        "    accuracy(preds, labels) # Using torchmetrics.Accuracy() to calculate accuracy\n",
        "\n",
        "  epoch_train_loss /= len(train_loader)\n",
        "  epoch_train_acc = accuracy.compute().item()\n",
        "  accuracy.reset()\n",
        "  train_loss.append(epoch_train_loss)\n",
        "  train_acc.append(epoch_train_acc)\n",
        "\n",
        "  # Validation Phase\n",
        "  model.eval()\n",
        "  epoch_val_loss = 0.0\n",
        "\n",
        "  with torch.no_grad():\n",
        "    for images, labels in val_loader:\n",
        "      images, labels = images.to(device), labels.to(device)\n",
        "      outputs = model(images)\n",
        "      loss = criterion(outputs, labels)\n",
        "      epoch_val_loss += loss.item()\n",
        "\n",
        "      preds = torch.argmax(outputs, dim=1)\n",
        "      accuracy(preds, labels)\n",
        "\n",
        "  epoch_val_loss /= len(val_loader)\n",
        "  epoch_val_acc = accuracy.compute().item()\n",
        "  accuracy.reset()\n",
        "  val_loss.append(epoch_val_loss)\n",
        "  val_acc.append(epoch_val_acc)\n",
        "\n",
        "  print(f\"Epoch [{epoch+1}/{conf_dict['epochs']}], \"\n",
        "          f\"Train Loss: {epoch_train_loss:.4f}, Acc: {epoch_train_acc:.4f}, \"\n",
        "          f\"Val Loss: {epoch_val_loss:.4f}, Acc: {epoch_val_acc:.4f}\"\n",
        "  )"
      ],
      "metadata": {
        "colab": {
          "base_uri": "https://localhost:8080/"
        },
        "id": "bbY9m3XtXj16",
        "outputId": "bbc74f6a-7777-4e9d-bce9-11526d31ad86"
      },
      "id": "bbY9m3XtXj16",
      "execution_count": null,
      "outputs": [
        {
          "output_type": "stream",
          "name": "stdout",
          "text": [
            "Epoch [1/25], Train Loss: 4.8109, Acc: 0.0137, Val Loss: 4.6750, Acc: 0.0157\n",
            "Epoch [2/25], Train Loss: 4.6005, Acc: 0.0186, Val Loss: 4.3629, Acc: 0.0598\n",
            "Epoch [3/25], Train Loss: 4.2172, Acc: 0.1108, Val Loss: 3.8017, Acc: 0.2990\n",
            "Epoch [4/25], Train Loss: 3.6010, Acc: 0.3588, Val Loss: 2.8830, Acc: 0.5608\n",
            "Epoch [5/25], Train Loss: 2.7628, Acc: 0.5569, Val Loss: 1.8834, Acc: 0.6922\n",
            "Epoch [6/25], Train Loss: 1.9654, Acc: 0.7127, Val Loss: 1.2691, Acc: 0.7833\n",
            "Epoch [7/25], Train Loss: 1.4009, Acc: 0.7735, Val Loss: 0.9347, Acc: 0.8284\n",
            "Epoch [8/25], Train Loss: 1.0250, Acc: 0.8441, Val Loss: 0.7357, Acc: 0.8784\n",
            "Epoch [9/25], Train Loss: 0.8109, Acc: 0.8647, Val Loss: 0.6140, Acc: 0.8843\n",
            "Epoch [10/25], Train Loss: 0.6416, Acc: 0.8971, Val Loss: 0.5496, Acc: 0.8961\n",
            "Epoch [11/25], Train Loss: 0.4840, Acc: 0.9324, Val Loss: 0.5070, Acc: 0.8951\n",
            "Epoch [12/25], Train Loss: 0.4404, Acc: 0.9324, Val Loss: 0.4540, Acc: 0.9029\n",
            "Epoch [13/25], Train Loss: 0.4254, Acc: 0.9255, Val Loss: 0.4287, Acc: 0.9176\n",
            "Epoch [14/25], Train Loss: 0.3091, Acc: 0.9529, Val Loss: 0.4382, Acc: 0.9069\n",
            "Epoch [15/25], Train Loss: 0.3341, Acc: 0.9520, Val Loss: 0.4184, Acc: 0.9176\n",
            "Epoch [16/25], Train Loss: 0.2664, Acc: 0.9510, Val Loss: 0.3978, Acc: 0.9186\n",
            "Epoch [17/25], Train Loss: 0.2434, Acc: 0.9598, Val Loss: 0.3900, Acc: 0.9176\n",
            "Epoch [18/25], Train Loss: 0.2917, Acc: 0.9480, Val Loss: 0.3896, Acc: 0.9196\n",
            "Epoch [19/25], Train Loss: 0.2397, Acc: 0.9637, Val Loss: 0.3691, Acc: 0.9284\n",
            "Epoch [20/25], Train Loss: 0.2156, Acc: 0.9667, Val Loss: 0.3795, Acc: 0.9255\n",
            "Epoch [21/25], Train Loss: 0.2259, Acc: 0.9608, Val Loss: 0.3699, Acc: 0.9265\n",
            "Epoch [22/25], Train Loss: 0.2073, Acc: 0.9608, Val Loss: 0.3623, Acc: 0.9284\n",
            "Epoch [23/25], Train Loss: 0.2190, Acc: 0.9657, Val Loss: 0.3668, Acc: 0.9284\n",
            "Epoch [24/25], Train Loss: 0.1891, Acc: 0.9735, Val Loss: 0.3635, Acc: 0.9294\n",
            "Epoch [25/25], Train Loss: 0.2157, Acc: 0.9618, Val Loss: 0.3709, Acc: 0.9304\n"
          ]
        }
      ]
    },
    {
      "cell_type": "code",
      "source": [
        "# Loss Curve\n",
        "plt.figure(figsize=(8, 6))\n",
        "plt.plot(train_loss, label=\"Train Loss\")\n",
        "plt.plot(val_loss, label=\"Validation Loss\")\n",
        "plt.xlabel(\"Epoch\")\n",
        "plt.ylabel(\"Loss\")\n",
        "plt.title(\"Training vs Validation Loss\")\n",
        "plt.legend()\n",
        "plt.grid(True)\n",
        "plt.show()\n",
        "\n",
        "# Accuracy Curve\n",
        "plt.figure(figsize=(8, 6))\n",
        "plt.plot(train_acc, label=\"Train Accuracy\")\n",
        "plt.plot(val_acc, label=\"Validation Accuracy\")\n",
        "plt.xlabel(\"Epoch\")\n",
        "plt.ylabel(\"Accuracy\")\n",
        "plt.title(\"Training vs Validation Accuracy\")\n",
        "plt.legend()\n",
        "plt.grid(True)\n",
        "plt.show()"
      ],
      "metadata": {
        "colab": {
          "base_uri": "https://localhost:8080/",
          "height": 1000
        },
        "id": "Oig3LUNGbP10",
        "outputId": "92360d57-c6fd-4497-b235-a5645649e05a"
      },
      "id": "Oig3LUNGbP10",
      "execution_count": null,
      "outputs": [
        {
          "output_type": "display_data",
          "data": {
            "text/plain": [
              "<Figure size 800x600 with 1 Axes>"
            ],
            "image/png": "[encoded data removed]"
          },
          "metadata": {}
        },
        {
          "output_type": "display_data",
          "data": {
            "text/plain": [
              "<Figure size 800x600 with 1 Axes>"
            ],
            "image/png": "[encoded data removed]"
          },
          "metadata": {}
        }
      ]
    },
    {
      "cell_type": "markdown",
      "source": [
        "## Evaluation"
      ],
      "metadata": {
        "id": "AeVRwTUud--C"
      },
      "id": "AeVRwTUud--C"
    },
    {
      "cell_type": "code",
      "source": [
        "# Evaluation on Test Data\n",
        "model.eval()\n",
        "test_loss = 0.0\n",
        "\n",
        "with torch.no_grad():\n",
        "  for images, labels in test_loader:\n",
        "    images, labels = images.to(device), labels.to(device)\n",
        "    outputs = model(images)\n",
        "    loss = criterion(outputs, labels)\n",
        "    preds = torch.argmax(outputs, dim=1)\n",
        "    test_loss += loss.item()\n",
        "\n",
        "    accuracy(preds, labels)\n",
        "    precision(preds, labels)\n",
        "    recall(preds, labels)\n",
        "    f1(preds, labels)\n",
        "\n",
        "test_loss /= len(test_loader)\n",
        "\n",
        "# Compute Metrics\n",
        "test_accuracy = accuracy.compute().item()\n",
        "test_precision = precision.compute().item()\n",
        "test_recall = recall.compute().item()\n",
        "test_f1 = f1.compute().item()\n",
        "\n",
        "print(f\"Test Loss: {test_loss:.4f} \\nAccuracy: {test_accuracy:.4f} \\nPrecision: {test_precision:.4f} \\nRecall: {test_recall:.4f} \\nF1: {test_f1:.4f}\")\n",
        "\n",
        "# Reset Metrics\n",
        "accuracy.reset()\n",
        "precision.reset()\n",
        "recall.reset()\n",
        "f1.reset()"
      ],
      "metadata": {
        "colab": {
          "base_uri": "https://localhost:8080/"
        },
        "id": "ppalq3EKb6lR",
        "outputId": "fb3fde2f-8d9c-4341-ebe4-201b2d72f282"
      },
      "id": "ppalq3EKb6lR",
      "execution_count": null,
      "outputs": [
        {
          "output_type": "stream",
          "name": "stdout",
          "text": [
            "Test Loss: 0.4264 \n",
            "Accuracy: 0.9039 \n",
            "Precision: 0.8889 \n",
            "Recall: 0.9167 \n",
            "F1: 0.8988\n"
          ]
        }
      ]
    },
    {
      "cell_type": "markdown",
      "source": [
        "Partially fine-tuned model (with unfrozen classifier head and last residual block) performs better than the previous model."
      ],
      "metadata": {
        "id": "zMhEpIg_eTxO"
      },
      "id": "zMhEpIg_eTxO"
    },
    {
      "cell_type": "markdown",
      "source": [
        "# Full Fine-tuning"
      ],
      "metadata": {
        "id": "5N_vFgfSz6z-"
      },
      "id": "5N_vFgfSz6z-"
    },
    {
      "cell_type": "markdown",
      "source": [
        "## Model Definition"
      ],
      "metadata": {
        "id": "IEYnaGqMz-0y"
      },
      "id": "IEYnaGqMz-0y"
    },
    {
      "cell_type": "code",
      "source": [
        "# Reload Pretrained ResNet18\n",
        "model = tv.models.resnet18(\n",
        "    weights = tv.models.ResNet18_Weights.DEFAULT\n",
        ")\n",
        "\n",
        "# Replace the final fc layer to match 102 classes\n",
        "in_features = model.fc.in_features\n",
        "model.fc = nn.Linear(in_features, 102)\n",
        "\n",
        "# Unfreeze All Layers\n",
        "for param in model.parameters():\n",
        "  param.requires_grad = True\n",
        "\n",
        "model.to(device)\n",
        "\n",
        "print(model)"
      ],
      "metadata": {
        "id": "VqKrsqmYeMmN"
      },
      "id": "VqKrsqmYeMmN",
      "execution_count": null,
      "outputs": []
    },
    {
      "cell_type": "markdown",
      "source": [
        "# Model Training"
      ],
      "metadata": {
        "id": "G410oruL1yMA"
      },
      "id": "G410oruL1yMA"
    },
    {
      "cell_type": "code",
      "source": [
        "# Define AdamW Optimizer\n",
        "optimizer = torch.optim.AdamW(\n",
        "    model.parameters(),\n",
        "    lr = conf_dict[\"lr_backbone\"], # Using \"lr_head\" because it is the smaller value\n",
        "    weight_decay = conf_dict[\"weight_decay\"]\n",
        ")\n",
        "\n",
        "# Redefine Scheduler\n",
        "steps_per_epoch = math.ceil(len(train_loader))\n",
        "\n",
        "scheduler = torch.optim.lr_scheduler_OneCycleLR(\n",
        "    optimizer,\n",
        "    max_lr = conf_dict[\"lr_head\"],\n",
        "    steps_per_epoch = steps_per_epoch,\n",
        "    epochs = conf_dict[\"epochs\"]\n",
        ")"
      ],
      "metadata": {
        "id": "5bZINz9O1zKp"
      },
      "id": "5bZINz9O1zKp",
      "execution_count": null,
      "outputs": []
    },
    {
      "cell_type": "code",
      "source": [
        "# Training Loop\n",
        "train_loss, val_loss = [], []\n",
        "train_acc, val_acc = [], []\n",
        "\n",
        "for epoch in range(conf_dict[\"epoch\"])\n",
        "\n",
        "  # Training Phase\n",
        "  model.train()\n",
        "  epoch_train_loss = 0.0\n",
        "\n",
        "  for images, labels in train_loader:\n",
        "    images, labels = images.to(device), labels.to(device)\n",
        "    optimizer.zero_grad()\n",
        "    outputs = model(images)\n",
        "    loss = criterion(outputs, labels)\n",
        "    loss.backward()\n",
        "    optimizer.step()\n",
        "    scheduler.step()\n",
        "    epoch_train_loss += loss.item()\n",
        "\n",
        "    preds = torch.argmax(output, dim=1)\n",
        "    accuracy(preds, labels)\n",
        "\n",
        "  epoch_train_loss /= len(train_loader)\n",
        "  epoch_acc_loss = accuracy.compute().item()\n",
        "  accuracy.reset()\n",
        "  train_loss.append(epoch_train_loss)\n",
        "  train_acc.append(epoch_train_acc)\n",
        "\n",
        "  # Validation Phase\n",
        "  model.eval()\n",
        "  epoch_val_loss = 0.0\n",
        "\n",
        "  with torch.no_grad():\n",
        "    for images, labels in val_loader:\n",
        "      images, labels = images.to(device), labels.to(device)\n",
        "      outputs = model(images)\n",
        "      loss = criterion(images, labels)\n",
        "      epoch_val_loss = loss.item()\n",
        "\n",
        "      preds = torch.argmax(outputs, dim=1)\n",
        "      accuracy(preds, labels)\n",
        "\n",
        "  epoch_val_loss /= len(val_loader)\n",
        "  epoch_val_acc = accuracy.compute().item()\n",
        "  accuracy.reset()\n",
        "  val_loss.append(epoch_val_loss)\n",
        "  val_acc.append(epoch_val_acc)\n",
        "\n",
        "  print(f\"Epoch [{epoch+1}/{conf_dict['epochs']}], \"\n",
        "          f\"Train Loss: {epoch_train_loss:.4f}, Acc: {epoch_train_acc:.4f}, \"\n",
        "          f\"Val Loss: {epoch_val_loss:.4f}, Acc: {epoch_val_acc:.4f}\"\n",
        "  )"
      ],
      "metadata": {
        "id": "wKZ5LW5j3iHc"
      },
      "id": "wKZ5LW5j3iHc",
      "execution_count": null,
      "outputs": []
    },
    {
      "cell_type": "code",
      "source": [
        "# Loss Curve\n",
        "plt.figure(figsize=(8, 6))\n",
        "plt.plot(train_loss, label=\"Train Loss\")\n",
        "plt.plot(val_loss, label=\"Validation Loss\")\n",
        "plt.xlabel(\"Epoch\")\n",
        "plt.ylabel(\"Loss\")\n",
        "plt.title(\"Training vs Validation Loss\")\n",
        "plt.legend()\n",
        "plt.grid(True)\n",
        "plt.show()\n",
        "\n",
        "# Accuracy Curve\n",
        "plt.figure(figsize=(8, 6))\n",
        "plt.plot(train_acc, label=\"Train Accuracy\")\n",
        "plt.plot(val_acc, label=\"Validation Accuracy\")\n",
        "plt.xlabel(\"Epoch\")\n",
        "plt.ylabel(\"Accuracy\")\n",
        "plt.title(\"Training vs Validation Accuracy\")\n",
        "plt.legend()\n",
        "plt.grid(True)\n",
        "plt.show()"
      ],
      "metadata": {
        "id": "K9gDcjEW6ar0"
      },
      "id": "K9gDcjEW6ar0",
      "execution_count": null,
      "outputs": []
    }
  ],
  "metadata": {
    "language_info": {
      "name": "python"
    },
    "colab": {
      "provenance": [],
      "gpuType": "T4",
      "include_colab_link": true
    },
    "kernelspec": {
      "name": "python3",
      "display_name": "Python 3"
    },
    "accelerator": "GPU"
  },
  "nbformat": 4,
  "nbformat_minor": 5
}