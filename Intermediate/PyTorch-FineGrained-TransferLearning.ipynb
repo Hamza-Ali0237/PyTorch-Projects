{
  "cells": [
    {
      "cell_type": "markdown",
      "metadata": {
        "id": "view-in-github",
        "colab_type": "text"
      },
      "source": [
        "<a href=\"https://colab.research.google.com/github/Hamza-Ali0237/PyTorch-Projects/blob/main/Intermediate/PyTorch-FineGrained-TransferLearning.ipynb\" target=\"_parent\"><img src=\"https://colab.research.google.com/assets/colab-badge.svg\" alt=\"Open In Colab\"/></a>"
      ]
    },
    {
      "cell_type": "markdown",
      "source": [
        "# Fine-Grained Transfer Learning"
      ],
      "metadata": {
        "id": "QC-o2kV-qRX2"
      },
      "id": "QC-o2kV-qRX2"
    },
    {
      "cell_type": "code",
      "execution_count": null,
      "id": "90187b26",
      "metadata": {
        "vscode": {
          "languageId": "plaintext"
        },
        "id": "90187b26"
      },
      "outputs": [],
      "source": [
        "!pip install torchmetrics"
      ]
    },
    {
      "cell_type": "code",
      "execution_count": null,
      "id": "17d1d8ea",
      "metadata": {
        "vscode": {
          "languageId": "plaintext"
        },
        "id": "17d1d8ea"
      },
      "outputs": [],
      "source": [
        "import torch\n",
        "from torch import nn\n",
        "import torchvision as tv\n",
        "import torchmetrics as tm\n",
        "from torchvision import transforms\n",
        "from torchvision.datasets import Flowers102\n",
        "from torch.utils.data import Dataset, DataLoader\n",
        "\n",
        "import random\n",
        "import numpy as np\n",
        "from PIL import Image\n",
        "import seaborn as sns\n",
        "import matplotlib.pyplot as plt"
      ]
    },
    {
      "cell_type": "markdown",
      "source": [
        "# Configuration"
      ],
      "metadata": {
        "id": "xrBFl1M-WGnj"
      },
      "id": "xrBFl1M-WGnj"
    },
    {
      "cell_type": "code",
      "execution_count": null,
      "id": "4b805b81",
      "metadata": {
        "vscode": {
          "languageId": "plaintext"
        },
        "id": "4b805b81"
      },
      "outputs": [],
      "source": [
        "conf_dict = {\n",
        "    # Reproducibility\n",
        "    \"seed\": 42,\n",
        "\n",
        "    # Computing Device\n",
        "    \"device\": \"cuda\" if torch.cuda.is_available() else \"cpu\",\n",
        "\n",
        "    # Data Settings\n",
        "    \"root_dir\": \"./data\",\n",
        "    \"image_size\": 224,\n",
        "    \"batch_size\": 32,\n",
        "    \"num_workers\": 2,\n",
        "    \"pin_memory\": True,\n",
        "\n",
        "    # Model Settings\n",
        "    \"architecture\": \"resnet50\",   # Backbone Architecture\n",
        "    \"pretrained\": True,\n",
        "    \"num_classes\": 102,\n",
        "\n",
        "    # Training Hyperparameters\n",
        "    \"epochs\": 25,\n",
        "    \"lr_head\": 1e-3,              # LR for classifier head\n",
        "    \"lr_backbone\": 1e-4,          # Lower LR for fine-tuning backbone\n",
        "    \"weight_decay\": 1e-4,\n",
        "    \"label_smoothing\": 0.0,\n",
        "\n",
        "    # Scheduler\n",
        "    \"scheduler\": \"onecycle\",\n",
        "\n",
        "    # Imbalance Handling\n",
        "    \"use_class_weights\": True,\n",
        "    \"use_weighted_sampler\": False,\n",
        "\n",
        "    # Logging & Saving\n",
        "    \"log_every_n_steps\": 20,\n",
        "    \"save_best_by\": \"val_loss\",\n",
        "    \"checkpoint_dir\": \"No checkpoints for now\"\n",
        "}\n",
        "\n",
        "print(conf_dict)"
      ]
    },
    {
      "cell_type": "code",
      "execution_count": null,
      "id": "22699315",
      "metadata": {
        "vscode": {
          "languageId": "plaintext"
        },
        "id": "22699315"
      },
      "outputs": [],
      "source": [
        "# Set seed for reproducibility\n",
        "SEED = conf_dict[\"seed\"]\n",
        "\n",
        "random.seed(SEED)\n",
        "np.random.seed(SEED)\n",
        "torch.manual_seed(SEED)\n",
        "\n",
        "if torch.cuda.is_available():\n",
        "  torch.cuda.manual_seed(SEED)\n",
        "  torch.cuda.manual_seed_all(SEED)\n",
        "\n",
        "# Ensure deterministic behavior\n",
        "## for speed over strict determinism, set deterministic=False and benchmark=True\n",
        "torch.backends.cudnn.deterministic = True\n",
        "torch.backends.cudnn.benchmark = False"
      ]
    },
    {
      "cell_type": "code",
      "execution_count": null,
      "id": "93affe98",
      "metadata": {
        "vscode": {
          "languageId": "plaintext"
        },
        "id": "93affe98"
      },
      "outputs": [],
      "source": []
    },
    {
      "cell_type": "code",
      "execution_count": null,
      "id": "d733585c",
      "metadata": {
        "vscode": {
          "languageId": "plaintext"
        },
        "id": "d733585c"
      },
      "outputs": [],
      "source": []
    }
  ],
  "metadata": {
    "language_info": {
      "name": "python"
    },
    "colab": {
      "provenance": [],
      "include_colab_link": true
    }
  },
  "nbformat": 4,
  "nbformat_minor": 5
}