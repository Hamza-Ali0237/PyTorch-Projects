{
  "nbformat": 4,
  "nbformat_minor": 0,
  "metadata": {
    "colab": {
      "provenance": [],
      "gpuType": "T4"
    },
    "kernelspec": {
      "name": "python3",
      "display_name": "Python 3"
    },
    "language_info": {
      "name": "python"
    },
    "accelerator": "GPU"
  },
  "cells": [
    {
      "cell_type": "code",
      "source": [
        "!pip install torchmetrics"
      ],
      "metadata": {
        "colab": {
          "base_uri": "https://localhost:8080/"
        },
        "id": "hzEunwEWs4x9",
        "outputId": "e7421df1-3f36-4d18-efbf-f4a755412864"
      },
      "execution_count": null,
      "outputs": [
        {
          "output_type": "stream",
          "name": "stdout",
          "text": [
            "Collecting torchmetrics\n",
            "  Downloading torchmetrics-1.6.1-py3-none-any.whl.metadata (21 kB)\n",
            "Requirement already satisfied: numpy>1.20.0 in /usr/local/lib/python3.10/dist-packages (from torchmetrics) (1.26.4)\n",
            "Requirement already satisfied: packaging>17.1 in /usr/local/lib/python3.10/dist-packages (from torchmetrics) (24.2)\n",
            "Requirement already satisfied: torch>=2.0.0 in /usr/local/lib/python3.10/dist-packages (from torchmetrics) (2.5.1+cu121)\n",
            "Collecting lightning-utilities>=0.8.0 (from torchmetrics)\n",
            "  Downloading lightning_utilities-0.11.9-py3-none-any.whl.metadata (5.2 kB)\n",
            "Requirement already satisfied: setuptools in /usr/local/lib/python3.10/dist-packages (from lightning-utilities>=0.8.0->torchmetrics) (75.1.0)\n",
            "Requirement already satisfied: typing-extensions in /usr/local/lib/python3.10/dist-packages (from lightning-utilities>=0.8.0->torchmetrics) (4.12.2)\n",
            "Requirement already satisfied: filelock in /usr/local/lib/python3.10/dist-packages (from torch>=2.0.0->torchmetrics) (3.16.1)\n",
            "Requirement already satisfied: networkx in /usr/local/lib/python3.10/dist-packages (from torch>=2.0.0->torchmetrics) (3.4.2)\n",
            "Requirement already satisfied: jinja2 in /usr/local/lib/python3.10/dist-packages (from torch>=2.0.0->torchmetrics) (3.1.4)\n",
            "Requirement already satisfied: fsspec in /usr/local/lib/python3.10/dist-packages (from torch>=2.0.0->torchmetrics) (2024.10.0)\n",
            "Requirement already satisfied: sympy==1.13.1 in /usr/local/lib/python3.10/dist-packages (from torch>=2.0.0->torchmetrics) (1.13.1)\n",
            "Requirement already satisfied: mpmath<1.4,>=1.1.0 in /usr/local/lib/python3.10/dist-packages (from sympy==1.13.1->torch>=2.0.0->torchmetrics) (1.3.0)\n",
            "Requirement already satisfied: MarkupSafe>=2.0 in /usr/local/lib/python3.10/dist-packages (from jinja2->torch>=2.0.0->torchmetrics) (3.0.2)\n",
            "Downloading torchmetrics-1.6.1-py3-none-any.whl (927 kB)\n",
            "\u001b[2K   \u001b[90m━━━━━━━━━━━━━━━━━━━━━━━━━━━━━━━━━━━━━━━━\u001b[0m \u001b[32m927.3/927.3 kB\u001b[0m \u001b[31m40.1 MB/s\u001b[0m eta \u001b[36m0:00:00\u001b[0m\n",
            "\u001b[?25hDownloading lightning_utilities-0.11.9-py3-none-any.whl (28 kB)\n",
            "Installing collected packages: lightning-utilities, torchmetrics\n",
            "Successfully installed lightning-utilities-0.11.9 torchmetrics-1.6.1\n"
          ]
        }
      ]
    },
    {
      "cell_type": "code",
      "execution_count": null,
      "metadata": {
        "id": "HRkXL1xFpUdG"
      },
      "outputs": [],
      "source": [
        "import torch\n",
        "import torchvision\n",
        "import torchmetrics\n",
        "import matplotlib.pyplot as plt\n",
        "from torch.utils.data import DataLoader\n",
        "import torchvision.transforms as transforms"
      ]
    },
    {
      "cell_type": "code",
      "source": [
        "transformation = transforms.Compose([\n",
        "    transforms.ToTensor(),\n",
        "    transforms.Normalize((0.5,), (0.5,))\n",
        "])"
      ],
      "metadata": {
        "id": "wk9MlLmYsMJx"
      },
      "execution_count": null,
      "outputs": []
    },
    {
      "cell_type": "code",
      "source": [
        "train_dataset = torchvision.datasets.MNIST(\n",
        "    root='./data',\n",
        "    train=True,\n",
        "    download=True,\n",
        "    transform=transformation\n",
        ")\n",
        "\n",
        "test_dataset = torchvision.datasets.MNIST(\n",
        "    root='./data',\n",
        "    train=False,\n",
        "    download=True,\n",
        "    transform=transformation\n",
        ")"
      ],
      "metadata": {
        "id": "mLnnJsFrsXgy"
      },
      "execution_count": null,
      "outputs": []
    },
    {
      "cell_type": "code",
      "source": [
        "dataloader_train = DataLoader(train_dataset, batch_size=32, shuffle=True)\n",
        "dataloader_test = DataLoader(test_dataset, batch_size=32, shuffle=True)"
      ],
      "metadata": {
        "id": "HhkDpXwQtUX2"
      },
      "execution_count": null,
      "outputs": []
    },
    {
      "cell_type": "code",
      "source": [
        "data_iter = iter(dataloader_train)\n",
        "images, labels = next(data_iter)\n",
        "\n",
        "for i in range(6):\n",
        "    plt.subplot(2, 3, i+1)\n",
        "    plt.imshow(images[i].squeeze(), cmap='gray')\n",
        "    plt.title(f\"Label: {labels[i].item()}\")\n",
        "    plt.axis('off')\n",
        "plt.show()"
      ],
      "metadata": {
        "colab": {
          "base_uri": "https://localhost:8080/",
          "height": 406
        },
        "id": "i4V7dX0Et2C4",
        "outputId": "09da1e1f-b88c-4137-fc4b-12f29d4f1520"
      },
      "execution_count": null,
      "outputs": [
        {
          "output_type": "display_data",
          "data": {
            "text/plain": [
              "<Figure size 640x480 with 6 Axes>"
            ],
            "image/png": "[encoded data removed]"
          },
          "metadata": {}
        }
      ]
    },
    {
      "cell_type": "code",
      "source": [
        "class SimpleCNN(torch.nn.Module):\n",
        "  def __init__(self, num_classes):\n",
        "    super().__init__()\n",
        "    self.feature_extractor = torch.nn.Sequential(\n",
        "        torch.nn.Conv2d(1, 32, kernel_size=3, padding=1),\n",
        "        torch.nn.ELU(),\n",
        "        torch.nn.MaxPool2d(kernel_size=2),\n",
        "        torch.nn.Conv2d(32, 64, kernel_size=3, padding=1),\n",
        "        torch.nn.ELU(),\n",
        "        torch.nn.MaxPool2d(kernel_size=2),\n",
        "        torch.nn.Flatten()\n",
        "    )\n",
        "\n",
        "    self.classifier = torch.nn.Linear(64*7*7, num_classes)\n",
        "\n",
        "  def forward(self, x):\n",
        "    x = self.feature_extractor(x)\n",
        "    x = self.classifier(x)\n",
        "    return x"
      ],
      "metadata": {
        "id": "fSMCXTqKt_RW"
      },
      "execution_count": null,
      "outputs": []
    },
    {
      "cell_type": "code",
      "source": [
        "device = torch.device(\"cuda\" if torch.cuda.is_available() else \"cpu\")"
      ],
      "metadata": {
        "id": "1Ea_HJrSWm02"
      },
      "execution_count": null,
      "outputs": []
    },
    {
      "cell_type": "code",
      "source": [
        "net = SimpleCNN(num_classes=10).to(device)"
      ],
      "metadata": {
        "id": "kpIMasDJPICY"
      },
      "execution_count": null,
      "outputs": []
    },
    {
      "cell_type": "code",
      "source": [
        "criterion = torch.nn.CrossEntropyLoss()\n",
        "opt = torch.optim.Adam(net.parameters(), lr=0.001)\n",
        "\n",
        "train_loss = []\n",
        "\n",
        "for epoch in range(10):\n",
        "  net.train()\n",
        "  epoch_loss = 0\n",
        "  for images, labels in dataloader_train:\n",
        "    images, labels = images.to(device), labels.to(device)\n",
        "    output = net(images)\n",
        "    loss = criterion(output, labels)\n",
        "    opt.zero_grad()\n",
        "    loss.backward()\n",
        "    opt.step()\n",
        "    epoch_loss += loss.item()\n",
        "  epoch_loss /= len(dataloader_train)\n",
        "  train_loss.append(epoch_loss)\n",
        "  print(f\"Epoch [{epoch + 1}/{10}], Loss: {epoch_loss:.4f}\")"
      ],
      "metadata": {
        "colab": {
          "base_uri": "https://localhost:8080/"
        },
        "id": "cn1V51wnPpy0",
        "outputId": "e94e784b-5935-4e8d-c541-2a6917aa956f"
      },
      "execution_count": null,
      "outputs": [
        {
          "output_type": "stream",
          "name": "stdout",
          "text": [
            "Epoch [1/10], Loss: 0.4717\n",
            "Epoch [2/10], Loss: 0.1344\n",
            "Epoch [3/10], Loss: 0.0663\n",
            "Epoch [4/10], Loss: 0.0443\n",
            "Epoch [5/10], Loss: 0.0239\n",
            "Epoch [6/10], Loss: 0.0259\n",
            "Epoch [7/10], Loss: 0.0231\n",
            "Epoch [8/10], Loss: 0.0146\n",
            "Epoch [9/10], Loss: 0.0171\n",
            "Epoch [10/10], Loss: 0.0208\n"
          ]
        }
      ]
    },
    {
      "cell_type": "code",
      "source": [
        "plt.figure(figsize=(10, 6))\n",
        "plt.plot(range(1, 11), train_loss, label=\"Training Loss\")\n",
        "plt.xlabel(\"Epoch\")\n",
        "plt.ylabel(\"Loss\")\n",
        "plt.title(\"Training Loss Over Epochs\")\n",
        "plt.legend()\n",
        "plt.show()"
      ],
      "metadata": {
        "colab": {
          "base_uri": "https://localhost:8080/",
          "height": 564
        },
        "id": "dxHDTECAafYo",
        "outputId": "9ce931f2-df0f-49fe-cd51-5087d96ab045"
      },
      "execution_count": null,
      "outputs": [
        {
          "output_type": "display_data",
          "data": {
            "text/plain": [
              "<Figure size 1000x600 with 1 Axes>"
            ],
            "image/png": "[encoded data removed]"
          },
          "metadata": {}
        }
      ]
    },
    {
      "cell_type": "code",
      "source": [
        "metric_accuracy = torchmetrics.Accuracy(\n",
        "    task=\"multiclass\",\n",
        "    num_classes=10\n",
        ").to(device)\n",
        "\n",
        "metric_precision = torchmetrics.Precision(\n",
        "    task=\"multiclass\", num_classes=10, average=\"macro\"\n",
        ").to(device)\n",
        "\n",
        "metric_recall = torchmetrics.Recall(\n",
        "    task=\"multiclass\", num_classes=10, average=\"macro\"\n",
        ").to(device)"
      ],
      "metadata": {
        "id": "etqwNcgMR6Qm"
      },
      "execution_count": null,
      "outputs": []
    },
    {
      "cell_type": "code",
      "source": [
        "net.eval()\n",
        "with torch.no_grad():\n",
        "  for images, labels in dataloader_test:\n",
        "    images, labels = images.to(device), labels.to(device)\n",
        "    output = net(images)\n",
        "    preds = torch.argmax(output, dim=1)\n",
        "    metric_accuracy(preds, labels)\n",
        "    metric_precision(preds, labels)\n",
        "    metric_recall(preds, labels)\n",
        "\n",
        "accuracy = metric_accuracy.compute()\n",
        "precision = metric_precision.compute()\n",
        "recall = metric_recall.compute()"
      ],
      "metadata": {
        "id": "d1hZGORvSf19"
      },
      "execution_count": null,
      "outputs": []
    },
    {
      "cell_type": "code",
      "source": [
        "print(f\"Accuracy: {precision}\")\n",
        "print(f\"Precision: {precision}\")\n",
        "print(f\"Recall: {recall}\")"
      ],
      "metadata": {
        "colab": {
          "base_uri": "https://localhost:8080/"
        },
        "id": "FNq9dZjDTQNZ",
        "outputId": "66f3eb9c-2ffa-4ded-b45d-2012fb2c3291"
      },
      "execution_count": null,
      "outputs": [
        {
          "output_type": "stream",
          "name": "stdout",
          "text": [
            "Accuracy: 0.9909507632255554\n",
            "Precision: 0.9909507632255554\n",
            "Recall: 0.990948498249054\n"
          ]
        }
      ]
    },
    {
      "cell_type": "code",
      "source": [],
      "metadata": {
        "id": "Em-4eo21bN4w"
      },
      "execution_count": null,
      "outputs": []
    }
  ]
}