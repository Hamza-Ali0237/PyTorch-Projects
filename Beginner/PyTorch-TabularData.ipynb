{
  "cells": [
    {
      "cell_type": "markdown",
      "metadata": {
        "id": "view-in-github",
        "colab_type": "text"
      },
      "source": [
        "<a href=\"https://colab.research.google.com/github/Hamza-Ali0237/PyTorch-Projects/blob/main/Beginner/PyTorch-TabularData.ipynb\" target=\"_parent\"><img src=\"https://colab.research.google.com/assets/colab-badge.svg\" alt=\"Open In Colab\"/></a>"
      ]
    },
    {
      "cell_type": "code",
      "execution_count": 3,
      "id": "4ee352f3",
      "metadata": {
        "vscode": {
          "languageId": "plaintext"
        },
        "id": "4ee352f3"
      },
      "outputs": [],
      "source": [
        "# Import Libraries\n",
        "import torch\n",
        "from torch import nn\n",
        "from torch.utils.data import Dataset, DataLoader\n",
        "\n",
        "from sklearn.datasets import load_iris\n",
        "from sklearn.model_selection import train_test_split\n",
        "from sklearn.preprocessing import StandardScaler\n",
        "\n",
        "import numpy as np\n",
        "import seaborn as sns\n",
        "import matplotlib.pyplot as plt"
      ]
    },
    {
      "cell_type": "code",
      "execution_count": 4,
      "id": "1e5e6b07",
      "metadata": {
        "vscode": {
          "languageId": "plaintext"
        },
        "colab": {
          "base_uri": "https://localhost:8080/"
        },
        "id": "1e5e6b07",
        "outputId": "673ecdee-809e-4dcf-bc29-970203fef451"
      },
      "outputs": [
        {
          "output_type": "stream",
          "name": "stdout",
          "text": [
            "Shape of X: (150, 4)\n",
            "Shape of y: (150,)\n"
          ]
        }
      ],
      "source": [
        "# Load Data\n",
        "iris_data = load_iris()\n",
        "\n",
        "X = iris_data.data\n",
        "y = iris_data.target\n",
        "\n",
        "print(f\"Shape of X: {X.shape}\")\n",
        "print(f\"Shape of y: {y.shape}\")"
      ]
    },
    {
      "cell_type": "code",
      "execution_count": 5,
      "id": "dcb47de0",
      "metadata": {
        "vscode": {
          "languageId": "plaintext"
        },
        "id": "dcb47de0"
      },
      "outputs": [],
      "source": [
        "# Train-Test Split\n",
        "X_train, X_test, y_train, y_test = train_test_split(\n",
        "    X, y, test_size = 0.2, random_state = 42, stratify = y\n",
        ")"
      ]
    },
    {
      "cell_type": "code",
      "execution_count": 6,
      "id": "b1e3fff1",
      "metadata": {
        "vscode": {
          "languageId": "plaintext"
        },
        "id": "b1e3fff1"
      },
      "outputs": [],
      "source": [
        "# Normalize Data\n",
        "scaler = StandardScaler()\n",
        "\n",
        "X_train_scaled = scaler.fit_transform(X_train)\n",
        "X_test_scaled = scaler.transform(X_test)"
      ]
    },
    {
      "cell_type": "code",
      "execution_count": 7,
      "id": "e04f612b",
      "metadata": {
        "vscode": {
          "languageId": "plaintext"
        },
        "id": "e04f612b"
      },
      "outputs": [],
      "source": [
        "# Custom Dataset Class\n",
        "class IrisDataset(Dataset):\n",
        "  def __init__(self, X, y):\n",
        "    self.X = torch.tensor(X, dtype = torch.float32)\n",
        "    self.y = torch.tensor(y, dtype = torch.long)\n",
        "\n",
        "  def __len__(self):\n",
        "    return len(self.X)\n",
        "\n",
        "  def __getitem__(self, index):\n",
        "    return self.X[index], self.y[index]"
      ]
    },
    {
      "cell_type": "code",
      "source": [
        "# Initialize DataLoaders\n",
        "train_data = IrisDataset(X_train, y_train)\n",
        "test_data = IrisDataset(X_test, y_test)\n",
        "\n",
        "train_loader = DataLoader(train_data, batch_size = 16, shuffle = True)\n",
        "test_loader = DataLoader(test_data, batch_size = 16)"
      ],
      "metadata": {
        "id": "yTRIzLmla1AP"
      },
      "id": "yTRIzLmla1AP",
      "execution_count": 8,
      "outputs": []
    },
    {
      "cell_type": "code",
      "source": [],
      "metadata": {
        "id": "1F_luF3ObZRp"
      },
      "id": "1F_luF3ObZRp",
      "execution_count": null,
      "outputs": []
    }
  ],
  "metadata": {
    "language_info": {
      "name": "python"
    },
    "colab": {
      "provenance": [],
      "include_colab_link": true
    },
    "kernelspec": {
      "name": "python3",
      "display_name": "Python 3"
    }
  },
  "nbformat": 4,
  "nbformat_minor": 5
}